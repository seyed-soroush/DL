{
  "cells": [
    {
      "cell_type": "code",
      "source": [
        "pip install tensorflow"
      ],
      "metadata": {
        "id": "xlsfSD9fet5k"
      },
      "execution_count": null,
      "outputs": []
    },
    {
      "cell_type": "code",
      "source": [
        "from tensorflow.keras.models import Model , Sequential\n",
        "from tensorflow.keras.layers import Dense , Activation\n",
        "from tensorflow.keras.optimizers import Adam"
      ],
      "metadata": {
        "id": "VsETPkJyfHKT"
      },
      "execution_count": 4,
      "outputs": []
    },
    {
      "cell_type": "code",
      "source": [
        "model = Sequential()\n",
        "model.add(Dense(4 , Activation = 'relu'))\n",
        "model.add(Dense(4 , Activation = 'relu'))\n",
        "model.add(Dense(1))\n",
        "\n",
        "model.compile(optimizer= 'adam' , loss = 'mse')\n",
        "\n",
        "model.fit(x = x_train , y=y_train ,\n",
        "          validation_data = (x_test , y_test),\n",
        "          batch_size = 64 , epochs = 20\n",
        "\n",
        "          )"
      ],
      "metadata": {
        "id": "CR2pIJhsfpHc"
      },
      "execution_count": null,
      "outputs": []
    },
    {
      "cell_type": "code",
      "source": [
        "from tensorflow.keras.models import Model\n",
        "from tensorflow.keras.layers import Input , Dense\n",
        "\n",
        "input_layer = Input((3,))\n",
        "layer1 = Dense(4 , Activation='relu')(input_layer)\n",
        "layer2 = Dense(4 , Activation='relu')(layer1)\n",
        "output_layer1 = Dense(1 )(layer2)\n",
        "\n",
        "layer3 = Dense(4 , Activation=\"relu\")(layer2)\n",
        "output_layer2 = Dense(1 , Activation = 'linear')(layer3)\n",
        "\n",
        "model = Model(input = input_layer , output = output_layer)\n",
        "model.compile(optimizer = 'adam' , loss='mse')\n",
        "\n",
        "model.fit(x_train , y_train , validation_data=(x_test , y_test) , epochs = 200 , batch_size = 128)"
      ],
      "metadata": {
        "id": "2peewo8XheLb"
      },
      "execution_count": 5,
      "outputs": []
    },
    {
      "cell_type": "code",
      "source": [
        "!wget 'https://archive.ics.uci.edu/ml/machine-learning-databases/00294/CCPP.zip'"
      ],
      "metadata": {
        "id": "VgNK1MTbkDBp",
        "outputId": "92253e9b-e1b2-4332-ec3c-f7774dfc0d83",
        "colab": {
          "base_uri": "https://localhost:8080/"
        }
      },
      "execution_count": 9,
      "outputs": [
        {
          "output_type": "stream",
          "name": "stdout",
          "text": [
            "--2025-06-28 08:08:40--  https://archive.ics.uci.edu/ml/machine-learning-databases/00294/CCPP.zip\n",
            "Resolving archive.ics.uci.edu (archive.ics.uci.edu)... 128.195.10.252\n",
            "Connecting to archive.ics.uci.edu (archive.ics.uci.edu)|128.195.10.252|:443... connected.\n",
            "HTTP request sent, awaiting response... 200 OK\n",
            "Length: unspecified\n",
            "Saving to: ‘CCPP.zip’\n",
            "\n",
            "CCPP.zip                [   <=>              ]   3.50M  6.59MB/s    in 0.5s    \n",
            "\n",
            "2025-06-28 08:08:41 (6.59 MB/s) - ‘CCPP.zip’ saved [3674852]\n",
            "\n"
          ]
        }
      ]
    },
    {
      "cell_type": "code",
      "source": [
        "!unzip /content/CCPP.zip"
      ],
      "metadata": {
        "id": "Y5agshnhlNYG",
        "outputId": "f974dd9a-de50-4df8-e039-5a9bd0106ac5",
        "colab": {
          "base_uri": "https://localhost:8080/"
        }
      },
      "execution_count": 14,
      "outputs": [
        {
          "output_type": "stream",
          "name": "stdout",
          "text": [
            "Archive:  /content/CCPP.zip\n",
            "replace CCPP/Folds5x2_pp.ods? [y]es, [n]o, [A]ll, [N]one, [r]ename: y\n",
            "  inflating: CCPP/Folds5x2_pp.ods    \n",
            "replace CCPP/Folds5x2_pp.xlsx? [y]es, [n]o, [A]ll, [N]one, [r]ename: y\n",
            "  inflating: CCPP/Folds5x2_pp.xlsx   \n",
            "replace CCPP/Readme.txt? [y]es, [n]o, [A]ll, [N]one, [r]ename: y\n",
            "  inflating: CCPP/Readme.txt         \n",
            "replace CCPP/Readme.txt~? [y]es, [n]o, [A]ll, [N]one, [r]ename: y\n",
            "  inflating: CCPP/Readme.txt~        \n"
          ]
        }
      ]
    },
    {
      "cell_type": "code",
      "source": [
        "pip install openpyxl"
      ],
      "metadata": {
        "id": "g91l246_mLrj",
        "outputId": "5880dd78-ddc7-456a-bfca-89005777bc3e",
        "colab": {
          "base_uri": "https://localhost:8080/"
        }
      },
      "execution_count": 16,
      "outputs": [
        {
          "output_type": "stream",
          "name": "stdout",
          "text": [
            "Collecting openpyxl\n",
            "  Downloading openpyxl-3.1.5-py2.py3-none-any.whl.metadata (2.5 kB)\n",
            "Collecting et-xmlfile (from openpyxl)\n",
            "  Downloading et_xmlfile-2.0.0-py3-none-any.whl.metadata (2.7 kB)\n",
            "Downloading openpyxl-3.1.5-py2.py3-none-any.whl (250 kB)\n",
            "\u001b[?25l   \u001b[90m━━━━━━━━━━━━━━━━━━━━━━━━━━━━━━━━━━━━━━━━\u001b[0m \u001b[32m0.0/250.9 kB\u001b[0m \u001b[31m?\u001b[0m eta \u001b[36m-:--:--\u001b[0m\r\u001b[2K   \u001b[91m━━━━━━━━━━━━━━━━━━━━━━━━━━━\u001b[0m\u001b[91m╸\u001b[0m\u001b[90m━━━━━━━━━━━━\u001b[0m \u001b[32m174.1/250.9 kB\u001b[0m \u001b[31m5.2 MB/s\u001b[0m eta \u001b[36m0:00:01\u001b[0m\r\u001b[2K   \u001b[90m━━━━━━━━━━━━━━━━━━━━━━━━━━━━━━━━━━━━━━━━\u001b[0m \u001b[32m250.9/250.9 kB\u001b[0m \u001b[31m4.4 MB/s\u001b[0m eta \u001b[36m0:00:00\u001b[0m\n",
            "\u001b[?25hDownloading et_xmlfile-2.0.0-py3-none-any.whl (18 kB)\n",
            "Installing collected packages: et-xmlfile, openpyxl\n",
            "Successfully installed et-xmlfile-2.0.0 openpyxl-3.1.5\n"
          ]
        }
      ]
    },
    {
      "cell_type": "code",
      "source": [
        "import pandas as pd\n",
        "import numpy as np\n",
        "from sklearn.preprocessing import MinMaxScaler\n",
        "from sklearn.model_selection import train_test_split\n",
        "df = pd.read_excel('/content/CCPP/Folds5x2_pp.xlsx')\n",
        "df.head()"
      ],
      "metadata": {
        "id": "fQb7-lB0lRZl",
        "outputId": "fffedacf-4139-42a0-87f2-dd7696fa6631",
        "colab": {
          "base_uri": "https://localhost:8080/",
          "height": 206
        }
      },
      "execution_count": 20,
      "outputs": [
        {
          "output_type": "execute_result",
          "data": {
            "text/plain": [
              "      AT      V       AP     RH      PE\n",
              "0  14.96  41.76  1024.07  73.17  463.26\n",
              "1  25.18  62.96  1020.04  59.08  444.37\n",
              "2   5.11  39.40  1012.16  92.14  488.56\n",
              "3  20.86  57.32  1010.24  76.64  446.48\n",
              "4  10.82  37.50  1009.23  96.62  473.90"
            ],
            "text/html": [
              "\n",
              "  <div id=\"df-5de70e56-9136-419b-b5a1-8bc4255f4b40\" class=\"colab-df-container\">\n",
              "    <div>\n",
              "<style scoped>\n",
              "    .dataframe tbody tr th:only-of-type {\n",
              "        vertical-align: middle;\n",
              "    }\n",
              "\n",
              "    .dataframe tbody tr th {\n",
              "        vertical-align: top;\n",
              "    }\n",
              "\n",
              "    .dataframe thead th {\n",
              "        text-align: right;\n",
              "    }\n",
              "</style>\n",
              "<table border=\"1\" class=\"dataframe\">\n",
              "  <thead>\n",
              "    <tr style=\"text-align: right;\">\n",
              "      <th></th>\n",
              "      <th>AT</th>\n",
              "      <th>V</th>\n",
              "      <th>AP</th>\n",
              "      <th>RH</th>\n",
              "      <th>PE</th>\n",
              "    </tr>\n",
              "  </thead>\n",
              "  <tbody>\n",
              "    <tr>\n",
              "      <th>0</th>\n",
              "      <td>14.96</td>\n",
              "      <td>41.76</td>\n",
              "      <td>1024.07</td>\n",
              "      <td>73.17</td>\n",
              "      <td>463.26</td>\n",
              "    </tr>\n",
              "    <tr>\n",
              "      <th>1</th>\n",
              "      <td>25.18</td>\n",
              "      <td>62.96</td>\n",
              "      <td>1020.04</td>\n",
              "      <td>59.08</td>\n",
              "      <td>444.37</td>\n",
              "    </tr>\n",
              "    <tr>\n",
              "      <th>2</th>\n",
              "      <td>5.11</td>\n",
              "      <td>39.40</td>\n",
              "      <td>1012.16</td>\n",
              "      <td>92.14</td>\n",
              "      <td>488.56</td>\n",
              "    </tr>\n",
              "    <tr>\n",
              "      <th>3</th>\n",
              "      <td>20.86</td>\n",
              "      <td>57.32</td>\n",
              "      <td>1010.24</td>\n",
              "      <td>76.64</td>\n",
              "      <td>446.48</td>\n",
              "    </tr>\n",
              "    <tr>\n",
              "      <th>4</th>\n",
              "      <td>10.82</td>\n",
              "      <td>37.50</td>\n",
              "      <td>1009.23</td>\n",
              "      <td>96.62</td>\n",
              "      <td>473.90</td>\n",
              "    </tr>\n",
              "  </tbody>\n",
              "</table>\n",
              "</div>\n",
              "    <div class=\"colab-df-buttons\">\n",
              "\n",
              "  <div class=\"colab-df-container\">\n",
              "    <button class=\"colab-df-convert\" onclick=\"convertToInteractive('df-5de70e56-9136-419b-b5a1-8bc4255f4b40')\"\n",
              "            title=\"Convert this dataframe to an interactive table.\"\n",
              "            style=\"display:none;\">\n",
              "\n",
              "  <svg xmlns=\"http://www.w3.org/2000/svg\" height=\"24px\" viewBox=\"0 -960 960 960\">\n",
              "    <path d=\"M120-120v-720h720v720H120Zm60-500h600v-160H180v160Zm220 220h160v-160H400v160Zm0 220h160v-160H400v160ZM180-400h160v-160H180v160Zm440 0h160v-160H620v160ZM180-180h160v-160H180v160Zm440 0h160v-160H620v160Z\"/>\n",
              "  </svg>\n",
              "    </button>\n",
              "\n",
              "  <style>\n",
              "    .colab-df-container {\n",
              "      display:flex;\n",
              "      gap: 12px;\n",
              "    }\n",
              "\n",
              "    .colab-df-convert {\n",
              "      background-color: #E8F0FE;\n",
              "      border: none;\n",
              "      border-radius: 50%;\n",
              "      cursor: pointer;\n",
              "      display: none;\n",
              "      fill: #1967D2;\n",
              "      height: 32px;\n",
              "      padding: 0 0 0 0;\n",
              "      width: 32px;\n",
              "    }\n",
              "\n",
              "    .colab-df-convert:hover {\n",
              "      background-color: #E2EBFA;\n",
              "      box-shadow: 0px 1px 2px rgba(60, 64, 67, 0.3), 0px 1px 3px 1px rgba(60, 64, 67, 0.15);\n",
              "      fill: #174EA6;\n",
              "    }\n",
              "\n",
              "    .colab-df-buttons div {\n",
              "      margin-bottom: 4px;\n",
              "    }\n",
              "\n",
              "    [theme=dark] .colab-df-convert {\n",
              "      background-color: #3B4455;\n",
              "      fill: #D2E3FC;\n",
              "    }\n",
              "\n",
              "    [theme=dark] .colab-df-convert:hover {\n",
              "      background-color: #434B5C;\n",
              "      box-shadow: 0px 1px 3px 1px rgba(0, 0, 0, 0.15);\n",
              "      filter: drop-shadow(0px 1px 2px rgba(0, 0, 0, 0.3));\n",
              "      fill: #FFFFFF;\n",
              "    }\n",
              "  </style>\n",
              "\n",
              "    <script>\n",
              "      const buttonEl =\n",
              "        document.querySelector('#df-5de70e56-9136-419b-b5a1-8bc4255f4b40 button.colab-df-convert');\n",
              "      buttonEl.style.display =\n",
              "        google.colab.kernel.accessAllowed ? 'block' : 'none';\n",
              "\n",
              "      async function convertToInteractive(key) {\n",
              "        const element = document.querySelector('#df-5de70e56-9136-419b-b5a1-8bc4255f4b40');\n",
              "        const dataTable =\n",
              "          await google.colab.kernel.invokeFunction('convertToInteractive',\n",
              "                                                    [key], {});\n",
              "        if (!dataTable) return;\n",
              "\n",
              "        const docLinkHtml = 'Like what you see? Visit the ' +\n",
              "          '<a target=\"_blank\" href=https://colab.research.google.com/notebooks/data_table.ipynb>data table notebook</a>'\n",
              "          + ' to learn more about interactive tables.';\n",
              "        element.innerHTML = '';\n",
              "        dataTable['output_type'] = 'display_data';\n",
              "        await google.colab.output.renderOutput(dataTable, element);\n",
              "        const docLink = document.createElement('div');\n",
              "        docLink.innerHTML = docLinkHtml;\n",
              "        element.appendChild(docLink);\n",
              "      }\n",
              "    </script>\n",
              "  </div>\n",
              "\n",
              "\n",
              "    <div id=\"df-585d7940-4596-47a3-b594-23a2e28880e6\">\n",
              "      <button class=\"colab-df-quickchart\" onclick=\"quickchart('df-585d7940-4596-47a3-b594-23a2e28880e6')\"\n",
              "                title=\"Suggest charts\"\n",
              "                style=\"display:none;\">\n",
              "\n",
              "<svg xmlns=\"http://www.w3.org/2000/svg\" height=\"24px\"viewBox=\"0 0 24 24\"\n",
              "     width=\"24px\">\n",
              "    <g>\n",
              "        <path d=\"M19 3H5c-1.1 0-2 .9-2 2v14c0 1.1.9 2 2 2h14c1.1 0 2-.9 2-2V5c0-1.1-.9-2-2-2zM9 17H7v-7h2v7zm4 0h-2V7h2v10zm4 0h-2v-4h2v4z\"/>\n",
              "    </g>\n",
              "</svg>\n",
              "      </button>\n",
              "\n",
              "<style>\n",
              "  .colab-df-quickchart {\n",
              "      --bg-color: #E8F0FE;\n",
              "      --fill-color: #1967D2;\n",
              "      --hover-bg-color: #E2EBFA;\n",
              "      --hover-fill-color: #174EA6;\n",
              "      --disabled-fill-color: #AAA;\n",
              "      --disabled-bg-color: #DDD;\n",
              "  }\n",
              "\n",
              "  [theme=dark] .colab-df-quickchart {\n",
              "      --bg-color: #3B4455;\n",
              "      --fill-color: #D2E3FC;\n",
              "      --hover-bg-color: #434B5C;\n",
              "      --hover-fill-color: #FFFFFF;\n",
              "      --disabled-bg-color: #3B4455;\n",
              "      --disabled-fill-color: #666;\n",
              "  }\n",
              "\n",
              "  .colab-df-quickchart {\n",
              "    background-color: var(--bg-color);\n",
              "    border: none;\n",
              "    border-radius: 50%;\n",
              "    cursor: pointer;\n",
              "    display: none;\n",
              "    fill: var(--fill-color);\n",
              "    height: 32px;\n",
              "    padding: 0;\n",
              "    width: 32px;\n",
              "  }\n",
              "\n",
              "  .colab-df-quickchart:hover {\n",
              "    background-color: var(--hover-bg-color);\n",
              "    box-shadow: 0 1px 2px rgba(60, 64, 67, 0.3), 0 1px 3px 1px rgba(60, 64, 67, 0.15);\n",
              "    fill: var(--button-hover-fill-color);\n",
              "  }\n",
              "\n",
              "  .colab-df-quickchart-complete:disabled,\n",
              "  .colab-df-quickchart-complete:disabled:hover {\n",
              "    background-color: var(--disabled-bg-color);\n",
              "    fill: var(--disabled-fill-color);\n",
              "    box-shadow: none;\n",
              "  }\n",
              "\n",
              "  .colab-df-spinner {\n",
              "    border: 2px solid var(--fill-color);\n",
              "    border-color: transparent;\n",
              "    border-bottom-color: var(--fill-color);\n",
              "    animation:\n",
              "      spin 1s steps(1) infinite;\n",
              "  }\n",
              "\n",
              "  @keyframes spin {\n",
              "    0% {\n",
              "      border-color: transparent;\n",
              "      border-bottom-color: var(--fill-color);\n",
              "      border-left-color: var(--fill-color);\n",
              "    }\n",
              "    20% {\n",
              "      border-color: transparent;\n",
              "      border-left-color: var(--fill-color);\n",
              "      border-top-color: var(--fill-color);\n",
              "    }\n",
              "    30% {\n",
              "      border-color: transparent;\n",
              "      border-left-color: var(--fill-color);\n",
              "      border-top-color: var(--fill-color);\n",
              "      border-right-color: var(--fill-color);\n",
              "    }\n",
              "    40% {\n",
              "      border-color: transparent;\n",
              "      border-right-color: var(--fill-color);\n",
              "      border-top-color: var(--fill-color);\n",
              "    }\n",
              "    60% {\n",
              "      border-color: transparent;\n",
              "      border-right-color: var(--fill-color);\n",
              "    }\n",
              "    80% {\n",
              "      border-color: transparent;\n",
              "      border-right-color: var(--fill-color);\n",
              "      border-bottom-color: var(--fill-color);\n",
              "    }\n",
              "    90% {\n",
              "      border-color: transparent;\n",
              "      border-bottom-color: var(--fill-color);\n",
              "    }\n",
              "  }\n",
              "</style>\n",
              "\n",
              "      <script>\n",
              "        async function quickchart(key) {\n",
              "          const quickchartButtonEl =\n",
              "            document.querySelector('#' + key + ' button');\n",
              "          quickchartButtonEl.disabled = true;  // To prevent multiple clicks.\n",
              "          quickchartButtonEl.classList.add('colab-df-spinner');\n",
              "          try {\n",
              "            const charts = await google.colab.kernel.invokeFunction(\n",
              "                'suggestCharts', [key], {});\n",
              "          } catch (error) {\n",
              "            console.error('Error during call to suggestCharts:', error);\n",
              "          }\n",
              "          quickchartButtonEl.classList.remove('colab-df-spinner');\n",
              "          quickchartButtonEl.classList.add('colab-df-quickchart-complete');\n",
              "        }\n",
              "        (() => {\n",
              "          let quickchartButtonEl =\n",
              "            document.querySelector('#df-585d7940-4596-47a3-b594-23a2e28880e6 button');\n",
              "          quickchartButtonEl.style.display =\n",
              "            google.colab.kernel.accessAllowed ? 'block' : 'none';\n",
              "        })();\n",
              "      </script>\n",
              "    </div>\n",
              "    </div>\n",
              "  </div>\n"
            ],
            "application/vnd.google.colaboratory.intrinsic+json": {
              "type": "dataframe",
              "variable_name": "df",
              "summary": "{\n  \"name\": \"df\",\n  \"rows\": 9568,\n  \"fields\": [\n    {\n      \"column\": \"AT\",\n      \"properties\": {\n        \"dtype\": \"number\",\n        \"std\": 7.452473229611079,\n        \"min\": 1.81,\n        \"max\": 37.11,\n        \"num_unique_values\": 2773,\n        \"samples\": [\n          12.54,\n          4.49,\n          6.64\n        ],\n        \"semantic_type\": \"\",\n        \"description\": \"\"\n      }\n    },\n    {\n      \"column\": \"V\",\n      \"properties\": {\n        \"dtype\": \"number\",\n        \"std\": 12.707892998326809,\n        \"min\": 25.36,\n        \"max\": 81.56,\n        \"num_unique_values\": 634,\n        \"samples\": [\n          74.33,\n          73.67,\n          58.82\n        ],\n        \"semantic_type\": \"\",\n        \"description\": \"\"\n      }\n    },\n    {\n      \"column\": \"AP\",\n      \"properties\": {\n        \"dtype\": \"number\",\n        \"std\": 5.938783705811607,\n        \"min\": 992.89,\n        \"max\": 1033.3,\n        \"num_unique_values\": 2517,\n        \"samples\": [\n          1020.46,\n          1015.73,\n          1027.64\n        ],\n        \"semantic_type\": \"\",\n        \"description\": \"\"\n      }\n    },\n    {\n      \"column\": \"RH\",\n      \"properties\": {\n        \"dtype\": \"number\",\n        \"std\": 14.600268756728953,\n        \"min\": 25.56,\n        \"max\": 100.16,\n        \"num_unique_values\": 4546,\n        \"samples\": [\n          62.8,\n          82.33,\n          47.19\n        ],\n        \"semantic_type\": \"\",\n        \"description\": \"\"\n      }\n    },\n    {\n      \"column\": \"PE\",\n      \"properties\": {\n        \"dtype\": \"number\",\n        \"std\": 17.066994999803416,\n        \"min\": 420.26,\n        \"max\": 495.76,\n        \"num_unique_values\": 4836,\n        \"samples\": [\n          473.87,\n          475.41,\n          468.81\n        ],\n        \"semantic_type\": \"\",\n        \"description\": \"\"\n      }\n    }\n  ]\n}"
            }
          },
          "metadata": {},
          "execution_count": 20
        }
      ]
    },
    {
      "cell_type": "code",
      "source": [
        "def get_output(data):\n",
        "  y1 = data.pop('PE')\n",
        "  y1 = np.array(y1)\n",
        "  y2 = data.pop('V')\n",
        "  y2 = np.array(y2)\n",
        "  return y1 , y2"
      ],
      "metadata": {
        "id": "JnN3cS-flcUI"
      },
      "execution_count": 19,
      "outputs": []
    },
    {
      "cell_type": "code",
      "source": [
        "train , test = train_test_split(df , test_size=0.2 , random_state = 42)\n",
        "\n",
        "y_train = get_output(train)\n",
        "y_test = get_output(test)\n",
        "\n",
        "mms = MinMaxScaler()\n",
        "\n",
        "x_train = mms.fit_transform(train)\n",
        "x_test = mms.transform(test)"
      ],
      "metadata": {
        "id": "YO-6uWLanByK"
      },
      "execution_count": 21,
      "outputs": []
    },
    {
      "cell_type": "code",
      "source": [
        "from tensorflow.keras.models import Model\n",
        "from tensorflow.keras.layers import Dense , Input , Activation\n",
        "\n",
        "input_layer = Input((3,) , name='input_layer')\n",
        "layer1 = Dense(10 , activation='relu' , name='layer1')(input_layer)\n",
        "layer2 = Dense(10 , activation='relu' , name='layer2')(layer1)\n",
        "output1 = Dense(1 , activation='linear' , name='output1')(layer2)\n",
        "\n",
        "\n",
        "layer3 = Dense(10 , activation='relu' , name='layer3')(layer2)\n",
        "output2 = Dense(1 , activation='linear' , name='output2')(layer3)\n",
        "\n",
        "model = Model(inputs = input_layer , outputs = [output1 , output2])\n",
        "\n",
        "\n",
        "\n"
      ],
      "metadata": {
        "id": "ZC1qr2I0oXR9"
      },
      "execution_count": 26,
      "outputs": []
    },
    {
      "cell_type": "code",
      "source": [
        "model.summary()"
      ],
      "metadata": {
        "id": "El7IkRImwj4k",
        "outputId": "4456136a-f8ac-4914-9a16-03d23410a2b5",
        "colab": {
          "base_uri": "https://localhost:8080/",
          "height": 357
        }
      },
      "execution_count": 27,
      "outputs": [
        {
          "output_type": "display_data",
          "data": {
            "text/plain": [
              "\u001b[1mModel: \"functional\"\u001b[0m\n"
            ],
            "text/html": [
              "<pre style=\"white-space:pre;overflow-x:auto;line-height:normal;font-family:Menlo,'DejaVu Sans Mono',consolas,'Courier New',monospace\"><span style=\"font-weight: bold\">Model: \"functional\"</span>\n",
              "</pre>\n"
            ]
          },
          "metadata": {}
        },
        {
          "output_type": "display_data",
          "data": {
            "text/plain": [
              "┏━━━━━━━━━━━━━━━━━━━━━┳━━━━━━━━━━━━━━━━━━━┳━━━━━━━━━━━━┳━━━━━━━━━━━━━━━━━━━┓\n",
              "┃\u001b[1m \u001b[0m\u001b[1mLayer (type)       \u001b[0m\u001b[1m \u001b[0m┃\u001b[1m \u001b[0m\u001b[1mOutput Shape     \u001b[0m\u001b[1m \u001b[0m┃\u001b[1m \u001b[0m\u001b[1m   Param #\u001b[0m\u001b[1m \u001b[0m┃\u001b[1m \u001b[0m\u001b[1mConnected to     \u001b[0m\u001b[1m \u001b[0m┃\n",
              "┡━━━━━━━━━━━━━━━━━━━━━╇━━━━━━━━━━━━━━━━━━━╇━━━━━━━━━━━━╇━━━━━━━━━━━━━━━━━━━┩\n",
              "│ input_layer         │ (\u001b[38;5;45mNone\u001b[0m, \u001b[38;5;34m3\u001b[0m)         │          \u001b[38;5;34m0\u001b[0m │ -                 │\n",
              "│ (\u001b[38;5;33mInputLayer\u001b[0m)        │                   │            │                   │\n",
              "├─────────────────────┼───────────────────┼────────────┼───────────────────┤\n",
              "│ layer1 (\u001b[38;5;33mDense\u001b[0m)      │ (\u001b[38;5;45mNone\u001b[0m, \u001b[38;5;34m10\u001b[0m)        │         \u001b[38;5;34m40\u001b[0m │ input_layer[\u001b[38;5;34m0\u001b[0m][\u001b[38;5;34m0\u001b[0m] │\n",
              "├─────────────────────┼───────────────────┼────────────┼───────────────────┤\n",
              "│ layer2 (\u001b[38;5;33mDense\u001b[0m)      │ (\u001b[38;5;45mNone\u001b[0m, \u001b[38;5;34m10\u001b[0m)        │        \u001b[38;5;34m110\u001b[0m │ layer1[\u001b[38;5;34m0\u001b[0m][\u001b[38;5;34m0\u001b[0m]      │\n",
              "├─────────────────────┼───────────────────┼────────────┼───────────────────┤\n",
              "│ layer3 (\u001b[38;5;33mDense\u001b[0m)      │ (\u001b[38;5;45mNone\u001b[0m, \u001b[38;5;34m10\u001b[0m)        │        \u001b[38;5;34m110\u001b[0m │ layer2[\u001b[38;5;34m0\u001b[0m][\u001b[38;5;34m0\u001b[0m]      │\n",
              "├─────────────────────┼───────────────────┼────────────┼───────────────────┤\n",
              "│ output1 (\u001b[38;5;33mDense\u001b[0m)     │ (\u001b[38;5;45mNone\u001b[0m, \u001b[38;5;34m1\u001b[0m)         │         \u001b[38;5;34m11\u001b[0m │ layer2[\u001b[38;5;34m0\u001b[0m][\u001b[38;5;34m0\u001b[0m]      │\n",
              "├─────────────────────┼───────────────────┼────────────┼───────────────────┤\n",
              "│ output2 (\u001b[38;5;33mDense\u001b[0m)     │ (\u001b[38;5;45mNone\u001b[0m, \u001b[38;5;34m1\u001b[0m)         │         \u001b[38;5;34m11\u001b[0m │ layer3[\u001b[38;5;34m0\u001b[0m][\u001b[38;5;34m0\u001b[0m]      │\n",
              "└─────────────────────┴───────────────────┴────────────┴───────────────────┘\n"
            ],
            "text/html": [
              "<pre style=\"white-space:pre;overflow-x:auto;line-height:normal;font-family:Menlo,'DejaVu Sans Mono',consolas,'Courier New',monospace\">┏━━━━━━━━━━━━━━━━━━━━━┳━━━━━━━━━━━━━━━━━━━┳━━━━━━━━━━━━┳━━━━━━━━━━━━━━━━━━━┓\n",
              "┃<span style=\"font-weight: bold\"> Layer (type)        </span>┃<span style=\"font-weight: bold\"> Output Shape      </span>┃<span style=\"font-weight: bold\">    Param # </span>┃<span style=\"font-weight: bold\"> Connected to      </span>┃\n",
              "┡━━━━━━━━━━━━━━━━━━━━━╇━━━━━━━━━━━━━━━━━━━╇━━━━━━━━━━━━╇━━━━━━━━━━━━━━━━━━━┩\n",
              "│ input_layer         │ (<span style=\"color: #00d7ff; text-decoration-color: #00d7ff\">None</span>, <span style=\"color: #00af00; text-decoration-color: #00af00\">3</span>)         │          <span style=\"color: #00af00; text-decoration-color: #00af00\">0</span> │ -                 │\n",
              "│ (<span style=\"color: #0087ff; text-decoration-color: #0087ff\">InputLayer</span>)        │                   │            │                   │\n",
              "├─────────────────────┼───────────────────┼────────────┼───────────────────┤\n",
              "│ layer1 (<span style=\"color: #0087ff; text-decoration-color: #0087ff\">Dense</span>)      │ (<span style=\"color: #00d7ff; text-decoration-color: #00d7ff\">None</span>, <span style=\"color: #00af00; text-decoration-color: #00af00\">10</span>)        │         <span style=\"color: #00af00; text-decoration-color: #00af00\">40</span> │ input_layer[<span style=\"color: #00af00; text-decoration-color: #00af00\">0</span>][<span style=\"color: #00af00; text-decoration-color: #00af00\">0</span>] │\n",
              "├─────────────────────┼───────────────────┼────────────┼───────────────────┤\n",
              "│ layer2 (<span style=\"color: #0087ff; text-decoration-color: #0087ff\">Dense</span>)      │ (<span style=\"color: #00d7ff; text-decoration-color: #00d7ff\">None</span>, <span style=\"color: #00af00; text-decoration-color: #00af00\">10</span>)        │        <span style=\"color: #00af00; text-decoration-color: #00af00\">110</span> │ layer1[<span style=\"color: #00af00; text-decoration-color: #00af00\">0</span>][<span style=\"color: #00af00; text-decoration-color: #00af00\">0</span>]      │\n",
              "├─────────────────────┼───────────────────┼────────────┼───────────────────┤\n",
              "│ layer3 (<span style=\"color: #0087ff; text-decoration-color: #0087ff\">Dense</span>)      │ (<span style=\"color: #00d7ff; text-decoration-color: #00d7ff\">None</span>, <span style=\"color: #00af00; text-decoration-color: #00af00\">10</span>)        │        <span style=\"color: #00af00; text-decoration-color: #00af00\">110</span> │ layer2[<span style=\"color: #00af00; text-decoration-color: #00af00\">0</span>][<span style=\"color: #00af00; text-decoration-color: #00af00\">0</span>]      │\n",
              "├─────────────────────┼───────────────────┼────────────┼───────────────────┤\n",
              "│ output1 (<span style=\"color: #0087ff; text-decoration-color: #0087ff\">Dense</span>)     │ (<span style=\"color: #00d7ff; text-decoration-color: #00d7ff\">None</span>, <span style=\"color: #00af00; text-decoration-color: #00af00\">1</span>)         │         <span style=\"color: #00af00; text-decoration-color: #00af00\">11</span> │ layer2[<span style=\"color: #00af00; text-decoration-color: #00af00\">0</span>][<span style=\"color: #00af00; text-decoration-color: #00af00\">0</span>]      │\n",
              "├─────────────────────┼───────────────────┼────────────┼───────────────────┤\n",
              "│ output2 (<span style=\"color: #0087ff; text-decoration-color: #0087ff\">Dense</span>)     │ (<span style=\"color: #00d7ff; text-decoration-color: #00d7ff\">None</span>, <span style=\"color: #00af00; text-decoration-color: #00af00\">1</span>)         │         <span style=\"color: #00af00; text-decoration-color: #00af00\">11</span> │ layer3[<span style=\"color: #00af00; text-decoration-color: #00af00\">0</span>][<span style=\"color: #00af00; text-decoration-color: #00af00\">0</span>]      │\n",
              "└─────────────────────┴───────────────────┴────────────┴───────────────────┘\n",
              "</pre>\n"
            ]
          },
          "metadata": {}
        },
        {
          "output_type": "display_data",
          "data": {
            "text/plain": [
              "\u001b[1m Total params: \u001b[0m\u001b[38;5;34m282\u001b[0m (1.10 KB)\n"
            ],
            "text/html": [
              "<pre style=\"white-space:pre;overflow-x:auto;line-height:normal;font-family:Menlo,'DejaVu Sans Mono',consolas,'Courier New',monospace\"><span style=\"font-weight: bold\"> Total params: </span><span style=\"color: #00af00; text-decoration-color: #00af00\">282</span> (1.10 KB)\n",
              "</pre>\n"
            ]
          },
          "metadata": {}
        },
        {
          "output_type": "display_data",
          "data": {
            "text/plain": [
              "\u001b[1m Trainable params: \u001b[0m\u001b[38;5;34m282\u001b[0m (1.10 KB)\n"
            ],
            "text/html": [
              "<pre style=\"white-space:pre;overflow-x:auto;line-height:normal;font-family:Menlo,'DejaVu Sans Mono',consolas,'Courier New',monospace\"><span style=\"font-weight: bold\"> Trainable params: </span><span style=\"color: #00af00; text-decoration-color: #00af00\">282</span> (1.10 KB)\n",
              "</pre>\n"
            ]
          },
          "metadata": {}
        },
        {
          "output_type": "display_data",
          "data": {
            "text/plain": [
              "\u001b[1m Non-trainable params: \u001b[0m\u001b[38;5;34m0\u001b[0m (0.00 B)\n"
            ],
            "text/html": [
              "<pre style=\"white-space:pre;overflow-x:auto;line-height:normal;font-family:Menlo,'DejaVu Sans Mono',consolas,'Courier New',monospace\"><span style=\"font-weight: bold\"> Non-trainable params: </span><span style=\"color: #00af00; text-decoration-color: #00af00\">0</span> (0.00 B)\n",
              "</pre>\n"
            ]
          },
          "metadata": {}
        }
      ]
    },
    {
      "cell_type": "code",
      "source": [
        "model.compile(optimizer='adam' , loss={'output1' : 'mse' , 'output2' : 'mse'})\n",
        "model.fit(x_train,y_train,epochs = 200 , batch_size = 128 , validation_data = (x_test , y_test) , verbose= True)"
      ],
      "metadata": {
        "id": "favpnEAixInx",
        "outputId": "f87e73d2-381c-447b-b623-bb268e674525",
        "colab": {
          "base_uri": "https://localhost:8080/"
        }
      },
      "execution_count": 31,
      "outputs": [
        {
          "output_type": "stream",
          "name": "stdout",
          "text": [
            "Epoch 1/200\n",
            "\u001b[1m60/60\u001b[0m \u001b[32m━━━━━━━━━━━━━━━━━━━━\u001b[0m\u001b[37m\u001b[0m \u001b[1m2s\u001b[0m 6ms/step - loss: 209389.4062 - output1_loss: 206258.8750 - output2_loss: 3130.6963 - val_loss: 208882.2812 - val_output1_loss: 205789.4062 - val_output2_loss: 3092.4229\n",
            "Epoch 2/200\n",
            "\u001b[1m60/60\u001b[0m \u001b[32m━━━━━━━━━━━━━━━━━━━━\u001b[0m\u001b[37m\u001b[0m \u001b[1m0s\u001b[0m 4ms/step - loss: 208892.5781 - output1_loss: 205841.8750 - output2_loss: 3050.3276 - val_loss: 206906.8125 - val_output1_loss: 203937.3594 - val_output2_loss: 2968.9253\n",
            "Epoch 3/200\n",
            "\u001b[1m60/60\u001b[0m \u001b[32m━━━━━━━━━━━━━━━━━━━━\u001b[0m\u001b[37m\u001b[0m \u001b[1m0s\u001b[0m 3ms/step - loss: 206012.2500 - output1_loss: 203115.6094 - output2_loss: 2896.5212 - val_loss: 202284.7188 - val_output1_loss: 199729.4531 - val_output2_loss: 2554.6484\n",
            "Epoch 4/200\n",
            "\u001b[1m60/60\u001b[0m \u001b[32m━━━━━━━━━━━━━━━━━━━━\u001b[0m\u001b[37m\u001b[0m \u001b[1m0s\u001b[0m 4ms/step - loss: 200514.0000 - output1_loss: 198169.2188 - output2_loss: 2344.1914 - val_loss: 193377.1875 - val_output1_loss: 191758.0625 - val_output2_loss: 1618.2610\n",
            "Epoch 5/200\n",
            "\u001b[1m60/60\u001b[0m \u001b[32m━━━━━━━━━━━━━━━━━━━━\u001b[0m\u001b[37m\u001b[0m \u001b[1m0s\u001b[0m 3ms/step - loss: 190771.0625 - output1_loss: 189485.9375 - output2_loss: 1284.2758 - val_loss: 179776.6719 - val_output1_loss: 179313.3906 - val_output2_loss: 462.1208\n",
            "Epoch 6/200\n",
            "\u001b[1m60/60\u001b[0m \u001b[32m━━━━━━━━━━━━━━━━━━━━\u001b[0m\u001b[37m\u001b[0m \u001b[1m0s\u001b[0m 4ms/step - loss: 176029.4844 - output1_loss: 175730.5938 - output2_loss: 297.9638 - val_loss: 162690.4844 - val_output1_loss: 162528.6406 - val_output2_loss: 160.3321\n",
            "Epoch 7/200\n",
            "\u001b[1m60/60\u001b[0m \u001b[32m━━━━━━━━━━━━━━━━━━━━\u001b[0m\u001b[37m\u001b[0m \u001b[1m0s\u001b[0m 4ms/step - loss: 158249.2812 - output1_loss: 158044.0781 - output2_loss: 204.1136 - val_loss: 142114.1406 - val_output1_loss: 141863.1562 - val_output2_loss: 249.1530\n",
            "Epoch 8/200\n",
            "\u001b[1m60/60\u001b[0m \u001b[32m━━━━━━━━━━━━━━━━━━━━\u001b[0m\u001b[37m\u001b[0m \u001b[1m0s\u001b[0m 4ms/step - loss: 136548.7969 - output1_loss: 136307.7656 - output2_loss: 239.7251 - val_loss: 117976.8359 - val_output1_loss: 117781.2969 - val_output2_loss: 193.3920\n",
            "Epoch 9/200\n",
            "\u001b[1m60/60\u001b[0m \u001b[32m━━━━━━━━━━━━━━━━━━━━\u001b[0m\u001b[37m\u001b[0m \u001b[1m0s\u001b[0m 3ms/step - loss: 111742.1562 - output1_loss: 111555.8828 - output2_loss: 184.6708 - val_loss: 92112.7266 - val_output1_loss: 91954.4297 - val_output2_loss: 155.9370\n",
            "Epoch 10/200\n",
            "\u001b[1m60/60\u001b[0m \u001b[32m━━━━━━━━━━━━━━━━━━━━\u001b[0m\u001b[37m\u001b[0m \u001b[1m0s\u001b[0m 3ms/step - loss: 85802.0781 - output1_loss: 85646.7266 - output2_loss: 154.0636 - val_loss: 66876.3203 - val_output1_loss: 66731.4531 - val_output2_loss: 142.4239\n",
            "Epoch 11/200\n",
            "\u001b[1m60/60\u001b[0m \u001b[32m━━━━━━━━━━━━━━━━━━━━\u001b[0m\u001b[37m\u001b[0m \u001b[1m0s\u001b[0m 4ms/step - loss: 61214.7031 - output1_loss: 61068.9844 - output2_loss: 144.2825 - val_loss: 44620.5508 - val_output1_loss: 44480.1992 - val_output2_loss: 138.0074\n",
            "Epoch 12/200\n",
            "\u001b[1m60/60\u001b[0m \u001b[32m━━━━━━━━━━━━━━━━━━━━\u001b[0m\u001b[37m\u001b[0m \u001b[1m0s\u001b[0m 4ms/step - loss: 40126.0078 - output1_loss: 39984.7383 - output2_loss: 140.1840 - val_loss: 27105.7930 - val_output1_loss: 26966.6816 - val_output2_loss: 137.0473\n",
            "Epoch 13/200\n",
            "\u001b[1m60/60\u001b[0m \u001b[32m━━━━━━━━━━━━━━━━━━━━\u001b[0m\u001b[37m\u001b[0m \u001b[1m0s\u001b[0m 4ms/step - loss: 23877.3047 - output1_loss: 23738.7363 - output2_loss: 138.0471 - val_loss: 15033.4111 - val_output1_loss: 14895.2383 - val_output2_loss: 136.5390\n",
            "Epoch 14/200\n",
            "\u001b[1m60/60\u001b[0m \u001b[32m━━━━━━━━━━━━━━━━━━━━\u001b[0m\u001b[37m\u001b[0m \u001b[1m0s\u001b[0m 4ms/step - loss: 13004.1621 - output1_loss: 12864.9326 - output2_loss: 138.8699 - val_loss: 7849.7935 - val_output1_loss: 7711.9844 - val_output2_loss: 136.6775\n",
            "Epoch 15/200\n",
            "\u001b[1m60/60\u001b[0m \u001b[32m━━━━━━━━━━━━━━━━━━━━\u001b[0m\u001b[37m\u001b[0m \u001b[1m0s\u001b[0m 4ms/step - loss: 6850.1367 - output1_loss: 6710.0679 - output2_loss: 139.8506 - val_loss: 4202.0913 - val_output1_loss: 4064.4856 - val_output2_loss: 136.9380\n",
            "Epoch 16/200\n",
            "\u001b[1m60/60\u001b[0m \u001b[32m━━━━━━━━━━━━━━━━━━━━\u001b[0m\u001b[37m\u001b[0m \u001b[1m0s\u001b[0m 4ms/step - loss: 3813.3376 - output1_loss: 3673.5273 - output2_loss: 139.7400 - val_loss: 2639.5867 - val_output1_loss: 2502.0674 - val_output2_loss: 137.2184\n",
            "Epoch 17/200\n",
            "\u001b[1m60/60\u001b[0m \u001b[32m━━━━━━━━━━━━━━━━━━━━\u001b[0m\u001b[37m\u001b[0m \u001b[1m0s\u001b[0m 4ms/step - loss: 2523.8621 - output1_loss: 2385.4189 - output2_loss: 138.4146 - val_loss: 2063.9175 - val_output1_loss: 1926.3677 - val_output2_loss: 137.4989\n",
            "Epoch 18/200\n",
            "\u001b[1m60/60\u001b[0m \u001b[32m━━━━━━━━━━━━━━━━━━━━\u001b[0m\u001b[37m\u001b[0m \u001b[1m0s\u001b[0m 4ms/step - loss: 1981.8812 - output1_loss: 1841.2286 - output2_loss: 140.6366 - val_loss: 1877.7664 - val_output1_loss: 1740.0482 - val_output2_loss: 137.8196\n",
            "Epoch 19/200\n",
            "\u001b[1m60/60\u001b[0m \u001b[32m━━━━━━━━━━━━━━━━━━━━\u001b[0m\u001b[37m\u001b[0m \u001b[1m0s\u001b[0m 3ms/step - loss: 1825.3197 - output1_loss: 1683.3872 - output2_loss: 141.9336 - val_loss: 1822.0234 - val_output1_loss: 1684.0695 - val_output2_loss: 138.1402\n",
            "Epoch 20/200\n",
            "\u001b[1m60/60\u001b[0m \u001b[32m━━━━━━━━━━━━━━━━━━━━\u001b[0m\u001b[37m\u001b[0m \u001b[1m0s\u001b[0m 4ms/step - loss: 1828.9155 - output1_loss: 1687.9318 - output2_loss: 140.9610 - val_loss: 1804.5300 - val_output1_loss: 1666.2330 - val_output2_loss: 138.5240\n",
            "Epoch 21/200\n",
            "\u001b[1m60/60\u001b[0m \u001b[32m━━━━━━━━━━━━━━━━━━━━\u001b[0m\u001b[37m\u001b[0m \u001b[1m0s\u001b[0m 3ms/step - loss: 1851.7552 - output1_loss: 1711.8677 - output2_loss: 139.9184 - val_loss: 1795.7723 - val_output1_loss: 1657.0532 - val_output2_loss: 138.9671\n",
            "Epoch 22/200\n",
            "\u001b[1m60/60\u001b[0m \u001b[32m━━━━━━━━━━━━━━━━━━━━\u001b[0m\u001b[37m\u001b[0m \u001b[1m0s\u001b[0m 3ms/step - loss: 1786.5374 - output1_loss: 1644.4049 - output2_loss: 142.1398 - val_loss: 1789.3557 - val_output1_loss: 1650.0265 - val_output2_loss: 139.5796\n",
            "Epoch 23/200\n",
            "\u001b[1m60/60\u001b[0m \u001b[32m━━━━━━━━━━━━━━━━━━━━\u001b[0m\u001b[37m\u001b[0m \u001b[1m0s\u001b[0m 3ms/step - loss: 1763.6812 - output1_loss: 1622.5767 - output2_loss: 141.0786 - val_loss: 1782.5188 - val_output1_loss: 1642.9989 - val_output2_loss: 139.7715\n",
            "Epoch 24/200\n",
            "\u001b[1m60/60\u001b[0m \u001b[32m━━━━━━━━━━━━━━━━━━━━\u001b[0m\u001b[37m\u001b[0m \u001b[1m0s\u001b[0m 3ms/step - loss: 1763.8865 - output1_loss: 1622.4229 - output2_loss: 141.4249 - val_loss: 1775.2389 - val_output1_loss: 1635.5172 - val_output2_loss: 139.9657\n",
            "Epoch 25/200\n",
            "\u001b[1m60/60\u001b[0m \u001b[32m━━━━━━━━━━━━━━━━━━━━\u001b[0m\u001b[37m\u001b[0m \u001b[1m0s\u001b[0m 4ms/step - loss: 1760.0409 - output1_loss: 1616.4598 - output2_loss: 143.5662 - val_loss: 1767.9390 - val_output1_loss: 1627.8031 - val_output2_loss: 140.3711\n",
            "Epoch 26/200\n",
            "\u001b[1m60/60\u001b[0m \u001b[32m━━━━━━━━━━━━━━━━━━━━\u001b[0m\u001b[37m\u001b[0m \u001b[1m0s\u001b[0m 4ms/step - loss: 1722.0640 - output1_loss: 1578.6344 - output2_loss: 143.4369 - val_loss: 1760.7889 - val_output1_loss: 1620.1711 - val_output2_loss: 140.8475\n",
            "Epoch 27/200\n",
            "\u001b[1m60/60\u001b[0m \u001b[32m━━━━━━━━━━━━━━━━━━━━\u001b[0m\u001b[37m\u001b[0m \u001b[1m0s\u001b[0m 4ms/step - loss: 1744.7812 - output1_loss: 1601.9971 - output2_loss: 142.7598 - val_loss: 1753.2810 - val_output1_loss: 1611.8771 - val_output2_loss: 141.6238\n",
            "Epoch 28/200\n",
            "\u001b[1m60/60\u001b[0m \u001b[32m━━━━━━━━━━━━━━━━━━━━\u001b[0m\u001b[37m\u001b[0m \u001b[1m0s\u001b[0m 4ms/step - loss: 1788.1191 - output1_loss: 1642.3682 - output2_loss: 145.7286 - val_loss: 1745.4004 - val_output1_loss: 1603.8324 - val_output2_loss: 141.7795\n",
            "Epoch 29/200\n",
            "\u001b[1m60/60\u001b[0m \u001b[32m━━━━━━━━━━━━━━━━━━━━\u001b[0m\u001b[37m\u001b[0m \u001b[1m0s\u001b[0m 4ms/step - loss: 1737.6196 - output1_loss: 1593.5974 - output2_loss: 144.0026 - val_loss: 1737.6963 - val_output1_loss: 1595.6401 - val_output2_loss: 142.2595\n",
            "Epoch 30/200\n",
            "\u001b[1m60/60\u001b[0m \u001b[32m━━━━━━━━━━━━━━━━━━━━\u001b[0m\u001b[37m\u001b[0m \u001b[1m0s\u001b[0m 4ms/step - loss: 1735.8091 - output1_loss: 1590.4410 - output2_loss: 145.3826 - val_loss: 1729.7814 - val_output1_loss: 1587.3145 - val_output2_loss: 142.6610\n",
            "Epoch 31/200\n",
            "\u001b[1m60/60\u001b[0m \u001b[32m━━━━━━━━━━━━━━━━━━━━\u001b[0m\u001b[37m\u001b[0m \u001b[1m0s\u001b[0m 3ms/step - loss: 1707.9800 - output1_loss: 1563.2867 - output2_loss: 144.7047 - val_loss: 1721.6282 - val_output1_loss: 1578.7965 - val_output2_loss: 143.0201\n",
            "Epoch 32/200\n",
            "\u001b[1m60/60\u001b[0m \u001b[32m━━━━━━━━━━━━━━━━━━━━\u001b[0m\u001b[37m\u001b[0m \u001b[1m0s\u001b[0m 4ms/step - loss: 1734.1599 - output1_loss: 1587.8892 - output2_loss: 146.2876 - val_loss: 1713.5338 - val_output1_loss: 1570.0963 - val_output2_loss: 143.6175\n",
            "Epoch 33/200\n",
            "\u001b[1m60/60\u001b[0m \u001b[32m━━━━━━━━━━━━━━━━━━━━\u001b[0m\u001b[37m\u001b[0m \u001b[1m0s\u001b[0m 3ms/step - loss: 1711.1482 - output1_loss: 1567.4796 - output2_loss: 143.6378 - val_loss: 1705.1649 - val_output1_loss: 1561.0824 - val_output2_loss: 144.2460\n",
            "Epoch 34/200\n",
            "\u001b[1m60/60\u001b[0m \u001b[32m━━━━━━━━━━━━━━━━━━━━\u001b[0m\u001b[37m\u001b[0m \u001b[1m0s\u001b[0m 3ms/step - loss: 1765.5245 - output1_loss: 1617.6948 - output2_loss: 147.7847 - val_loss: 1696.6472 - val_output1_loss: 1552.1235 - val_output2_loss: 144.6820\n",
            "Epoch 35/200\n",
            "\u001b[1m60/60\u001b[0m \u001b[32m━━━━━━━━━━━━━━━━━━━━\u001b[0m\u001b[37m\u001b[0m \u001b[1m0s\u001b[0m 3ms/step - loss: 1682.1082 - output1_loss: 1530.4908 - output2_loss: 151.6098 - val_loss: 1688.2404 - val_output1_loss: 1543.2378 - val_output2_loss: 145.1526\n",
            "Epoch 36/200\n",
            "\u001b[1m60/60\u001b[0m \u001b[32m━━━━━━━━━━━━━━━━━━━━\u001b[0m\u001b[37m\u001b[0m \u001b[1m0s\u001b[0m 4ms/step - loss: 1679.0997 - output1_loss: 1531.5238 - output2_loss: 147.5755 - val_loss: 1679.5181 - val_output1_loss: 1534.1549 - val_output2_loss: 145.5034\n",
            "Epoch 37/200\n",
            "\u001b[1m60/60\u001b[0m \u001b[32m━━━━━━━━━━━━━━━━━━━━\u001b[0m\u001b[37m\u001b[0m \u001b[1m0s\u001b[0m 4ms/step - loss: 1676.2826 - output1_loss: 1529.5135 - output2_loss: 146.7781 - val_loss: 1670.9435 - val_output1_loss: 1524.9585 - val_output2_loss: 146.1140\n",
            "Epoch 38/200\n",
            "\u001b[1m60/60\u001b[0m \u001b[32m━━━━━━━━━━━━━━━━━━━━\u001b[0m\u001b[37m\u001b[0m \u001b[1m0s\u001b[0m 4ms/step - loss: 1671.0323 - output1_loss: 1524.6755 - output2_loss: 146.3596 - val_loss: 1661.9640 - val_output1_loss: 1515.5015 - val_output2_loss: 146.5830\n",
            "Epoch 39/200\n",
            "\u001b[1m60/60\u001b[0m \u001b[32m━━━━━━━━━━━━━━━━━━━━\u001b[0m\u001b[37m\u001b[0m \u001b[1m0s\u001b[0m 3ms/step - loss: 1700.4312 - output1_loss: 1550.5726 - output2_loss: 149.8671 - val_loss: 1653.1443 - val_output1_loss: 1506.1753 - val_output2_loss: 147.0805\n",
            "Epoch 40/200\n",
            "\u001b[1m60/60\u001b[0m \u001b[32m━━━━━━━━━━━━━━━━━━━━\u001b[0m\u001b[37m\u001b[0m \u001b[1m0s\u001b[0m 3ms/step - loss: 1701.8615 - output1_loss: 1552.6927 - output2_loss: 149.1575 - val_loss: 1644.4124 - val_output1_loss: 1496.6027 - val_output2_loss: 147.9119\n",
            "Epoch 41/200\n",
            "\u001b[1m60/60\u001b[0m \u001b[32m━━━━━━━━━━━━━━━━━━━━\u001b[0m\u001b[37m\u001b[0m \u001b[1m0s\u001b[0m 4ms/step - loss: 1673.9072 - output1_loss: 1525.1886 - output2_loss: 148.7210 - val_loss: 1635.0143 - val_output1_loss: 1486.9883 - val_output2_loss: 148.1153\n",
            "Epoch 42/200\n",
            "\u001b[1m60/60\u001b[0m \u001b[32m━━━━━━━━━━━━━━━━━━━━\u001b[0m\u001b[37m\u001b[0m \u001b[1m0s\u001b[0m 4ms/step - loss: 1615.7717 - output1_loss: 1464.8861 - output2_loss: 150.8716 - val_loss: 1627.1169 - val_output1_loss: 1477.6434 - val_output2_loss: 149.5613\n",
            "Epoch 43/200\n",
            "\u001b[1m60/60\u001b[0m \u001b[32m━━━━━━━━━━━━━━━━━━━━\u001b[0m\u001b[37m\u001b[0m \u001b[1m0s\u001b[0m 4ms/step - loss: 1658.8417 - output1_loss: 1508.0262 - output2_loss: 150.8161 - val_loss: 1616.9835 - val_output1_loss: 1467.7583 - val_output2_loss: 149.2995\n",
            "Epoch 44/200\n",
            "\u001b[1m60/60\u001b[0m \u001b[32m━━━━━━━━━━━━━━━━━━━━\u001b[0m\u001b[37m\u001b[0m \u001b[1m0s\u001b[0m 4ms/step - loss: 1617.3339 - output1_loss: 1466.8323 - output2_loss: 150.4714 - val_loss: 1608.0675 - val_output1_loss: 1457.9645 - val_output2_loss: 150.1652\n",
            "Epoch 45/200\n",
            "\u001b[1m60/60\u001b[0m \u001b[32m━━━━━━━━━━━━━━━━━━━━\u001b[0m\u001b[37m\u001b[0m \u001b[1m0s\u001b[0m 3ms/step - loss: 1633.4203 - output1_loss: 1483.1355 - output2_loss: 150.3207 - val_loss: 1598.3961 - val_output1_loss: 1448.0824 - val_output2_loss: 150.3672\n",
            "Epoch 46/200\n",
            "\u001b[1m60/60\u001b[0m \u001b[32m━━━━━━━━━━━━━━━━━━━━\u001b[0m\u001b[37m\u001b[0m \u001b[1m0s\u001b[0m 3ms/step - loss: 1627.6359 - output1_loss: 1473.5930 - output2_loss: 154.0991 - val_loss: 1589.0706 - val_output1_loss: 1438.1055 - val_output2_loss: 151.0081\n",
            "Epoch 47/200\n",
            "\u001b[1m60/60\u001b[0m \u001b[32m━━━━━━━━━━━━━━━━━━━━\u001b[0m\u001b[37m\u001b[0m \u001b[1m0s\u001b[0m 4ms/step - loss: 1627.2511 - output1_loss: 1473.0485 - output2_loss: 154.1883 - val_loss: 1579.7946 - val_output1_loss: 1428.2438 - val_output2_loss: 151.5828\n",
            "Epoch 48/200\n",
            "\u001b[1m60/60\u001b[0m \u001b[32m━━━━━━━━━━━━━━━━━━━━\u001b[0m\u001b[37m\u001b[0m \u001b[1m0s\u001b[0m 4ms/step - loss: 1606.5664 - output1_loss: 1453.7334 - output2_loss: 152.8725 - val_loss: 1570.2010 - val_output1_loss: 1418.1034 - val_output2_loss: 152.1175\n",
            "Epoch 49/200\n",
            "\u001b[1m60/60\u001b[0m \u001b[32m━━━━━━━━━━━━━━━━━━━━\u001b[0m\u001b[37m\u001b[0m \u001b[1m0s\u001b[0m 4ms/step - loss: 1566.5480 - output1_loss: 1411.5645 - output2_loss: 155.0013 - val_loss: 1560.7714 - val_output1_loss: 1408.1179 - val_output2_loss: 152.6665\n",
            "Epoch 50/200\n",
            "\u001b[1m60/60\u001b[0m \u001b[32m━━━━━━━━━━━━━━━━━━━━\u001b[0m\u001b[37m\u001b[0m \u001b[1m0s\u001b[0m 4ms/step - loss: 1586.7666 - output1_loss: 1431.6462 - output2_loss: 155.1183 - val_loss: 1551.4019 - val_output1_loss: 1398.0656 - val_output2_loss: 153.3419\n",
            "Epoch 51/200\n",
            "\u001b[1m60/60\u001b[0m \u001b[32m━━━━━━━━━━━━━━━━━━━━\u001b[0m\u001b[37m\u001b[0m \u001b[1m0s\u001b[0m 3ms/step - loss: 1563.9838 - output1_loss: 1407.9983 - output2_loss: 156.0086 - val_loss: 1541.9950 - val_output1_loss: 1387.9946 - val_output2_loss: 153.9970\n",
            "Epoch 52/200\n",
            "\u001b[1m60/60\u001b[0m \u001b[32m━━━━━━━━━━━━━━━━━━━━\u001b[0m\u001b[37m\u001b[0m \u001b[1m0s\u001b[0m 3ms/step - loss: 1581.9023 - output1_loss: 1427.2244 - output2_loss: 154.6764 - val_loss: 1532.3470 - val_output1_loss: 1377.6637 - val_output2_loss: 154.6654\n",
            "Epoch 53/200\n",
            "\u001b[1m60/60\u001b[0m \u001b[32m━━━━━━━━━━━━━━━━━━━━\u001b[0m\u001b[37m\u001b[0m \u001b[1m0s\u001b[0m 3ms/step - loss: 1565.6564 - output1_loss: 1410.0961 - output2_loss: 155.5484 - val_loss: 1522.5042 - val_output1_loss: 1367.3894 - val_output2_loss: 155.0876\n",
            "Epoch 54/200\n",
            "\u001b[1m60/60\u001b[0m \u001b[32m━━━━━━━━━━━━━━━━━━━━\u001b[0m\u001b[37m\u001b[0m \u001b[1m0s\u001b[0m 3ms/step - loss: 1561.3903 - output1_loss: 1403.8379 - output2_loss: 157.5530 - val_loss: 1513.0172 - val_output1_loss: 1357.3123 - val_output2_loss: 155.6739\n",
            "Epoch 55/200\n",
            "\u001b[1m60/60\u001b[0m \u001b[32m━━━━━━━━━━━━━━━━━━━━\u001b[0m\u001b[37m\u001b[0m \u001b[1m0s\u001b[0m 3ms/step - loss: 1557.1338 - output1_loss: 1399.2765 - output2_loss: 157.8489 - val_loss: 1503.5453 - val_output1_loss: 1347.1831 - val_output2_loss: 156.3247\n",
            "Epoch 56/200\n",
            "\u001b[1m60/60\u001b[0m \u001b[32m━━━━━━━━━━━━━━━━━━━━\u001b[0m\u001b[37m\u001b[0m \u001b[1m0s\u001b[0m 3ms/step - loss: 1520.6973 - output1_loss: 1359.6251 - output2_loss: 161.0757 - val_loss: 1493.5138 - val_output1_loss: 1336.6637 - val_output2_loss: 156.7966\n",
            "Epoch 57/200\n",
            "\u001b[1m60/60\u001b[0m \u001b[32m━━━━━━━━━━━━━━━━━━━━\u001b[0m\u001b[37m\u001b[0m \u001b[1m0s\u001b[0m 3ms/step - loss: 1511.7263 - output1_loss: 1353.9907 - output2_loss: 157.7471 - val_loss: 1484.8671 - val_output1_loss: 1326.6959 - val_output2_loss: 158.1135\n",
            "Epoch 58/200\n",
            "\u001b[1m60/60\u001b[0m \u001b[32m━━━━━━━━━━━━━━━━━━━━\u001b[0m\u001b[37m\u001b[0m \u001b[1m0s\u001b[0m 3ms/step - loss: 1503.6816 - output1_loss: 1342.8607 - output2_loss: 160.7809 - val_loss: 1474.2727 - val_output1_loss: 1316.2985 - val_output2_loss: 157.9102\n",
            "Epoch 59/200\n",
            "\u001b[1m60/60\u001b[0m \u001b[32m━━━━━━━━━━━━━━━━━━━━\u001b[0m\u001b[37m\u001b[0m \u001b[1m0s\u001b[0m 4ms/step - loss: 1464.9960 - output1_loss: 1303.5150 - output2_loss: 161.5092 - val_loss: 1464.3196 - val_output1_loss: 1305.4647 - val_output2_loss: 158.7740\n",
            "Epoch 60/200\n",
            "\u001b[1m60/60\u001b[0m \u001b[32m━━━━━━━━━━━━━━━━━━━━\u001b[0m\u001b[37m\u001b[0m \u001b[1m0s\u001b[0m 4ms/step - loss: 1470.4423 - output1_loss: 1306.5656 - output2_loss: 163.8839 - val_loss: 1454.5762 - val_output1_loss: 1295.1840 - val_output2_loss: 159.3067\n",
            "Epoch 61/200\n",
            "\u001b[1m60/60\u001b[0m \u001b[32m━━━━━━━━━━━━━━━━━━━━\u001b[0m\u001b[37m\u001b[0m \u001b[1m0s\u001b[0m 3ms/step - loss: 1459.1920 - output1_loss: 1294.5646 - output2_loss: 164.6108 - val_loss: 1444.4028 - val_output1_loss: 1284.5643 - val_output2_loss: 159.7438\n",
            "Epoch 62/200\n",
            "\u001b[1m60/60\u001b[0m \u001b[32m━━━━━━━━━━━━━━━━━━━━\u001b[0m\u001b[37m\u001b[0m \u001b[1m0s\u001b[0m 4ms/step - loss: 1475.6785 - output1_loss: 1313.3962 - output2_loss: 162.2410 - val_loss: 1434.7545 - val_output1_loss: 1274.4695 - val_output2_loss: 160.1899\n",
            "Epoch 63/200\n",
            "\u001b[1m60/60\u001b[0m \u001b[32m━━━━━━━━━━━━━━━━━━━━\u001b[0m\u001b[37m\u001b[0m \u001b[1m0s\u001b[0m 4ms/step - loss: 1493.5905 - output1_loss: 1330.9193 - output2_loss: 162.6343 - val_loss: 1425.7377 - val_output1_loss: 1263.3033 - val_output2_loss: 162.3258\n",
            "Epoch 64/200\n",
            "\u001b[1m60/60\u001b[0m \u001b[32m━━━━━━━━━━━━━━━━━━━━\u001b[0m\u001b[37m\u001b[0m \u001b[1m0s\u001b[0m 4ms/step - loss: 1452.4325 - output1_loss: 1290.8546 - output2_loss: 161.5937 - val_loss: 1414.6420 - val_output1_loss: 1253.2123 - val_output2_loss: 161.3167\n",
            "Epoch 65/200\n",
            "\u001b[1m60/60\u001b[0m \u001b[32m━━━━━━━━━━━━━━━━━━━━\u001b[0m\u001b[37m\u001b[0m \u001b[1m0s\u001b[0m 3ms/step - loss: 1428.6229 - output1_loss: 1264.2234 - output2_loss: 164.3652 - val_loss: 1405.1007 - val_output1_loss: 1242.5178 - val_output2_loss: 162.4617\n",
            "Epoch 66/200\n",
            "\u001b[1m60/60\u001b[0m \u001b[32m━━━━━━━━━━━━━━━━━━━━\u001b[0m\u001b[37m\u001b[0m \u001b[1m0s\u001b[0m 3ms/step - loss: 1415.9329 - output1_loss: 1251.2142 - output2_loss: 164.6981 - val_loss: 1394.3247 - val_output1_loss: 1231.4569 - val_output2_loss: 162.7367\n",
            "Epoch 67/200\n",
            "\u001b[1m60/60\u001b[0m \u001b[32m━━━━━━━━━━━━━━━━━━━━\u001b[0m\u001b[37m\u001b[0m \u001b[1m0s\u001b[0m 4ms/step - loss: 1417.3855 - output1_loss: 1251.8774 - output2_loss: 165.5088 - val_loss: 1384.6661 - val_output1_loss: 1221.6168 - val_output2_loss: 162.9234\n",
            "Epoch 68/200\n",
            "\u001b[1m60/60\u001b[0m \u001b[32m━━━━━━━━━━━━━━━━━━━━\u001b[0m\u001b[37m\u001b[0m \u001b[1m0s\u001b[0m 4ms/step - loss: 1417.1538 - output1_loss: 1252.4293 - output2_loss: 164.6935 - val_loss: 1373.9979 - val_output1_loss: 1210.3000 - val_output2_loss: 163.5575\n",
            "Epoch 69/200\n",
            "\u001b[1m60/60\u001b[0m \u001b[32m━━━━━━━━━━━━━━━━━━━━\u001b[0m\u001b[37m\u001b[0m \u001b[1m0s\u001b[0m 3ms/step - loss: 1385.6301 - output1_loss: 1218.0144 - output2_loss: 167.5891 - val_loss: 1363.5536 - val_output1_loss: 1199.4304 - val_output2_loss: 163.9784\n",
            "Epoch 70/200\n",
            "\u001b[1m60/60\u001b[0m \u001b[32m━━━━━━━━━━━━━━━━━━━━\u001b[0m\u001b[37m\u001b[0m \u001b[1m0s\u001b[0m 4ms/step - loss: 1387.7943 - output1_loss: 1220.0325 - output2_loss: 167.7436 - val_loss: 1352.7178 - val_output1_loss: 1187.9304 - val_output2_loss: 164.6252\n",
            "Epoch 71/200\n",
            "\u001b[1m60/60\u001b[0m \u001b[32m━━━━━━━━━━━━━━━━━━━━\u001b[0m\u001b[37m\u001b[0m \u001b[1m0s\u001b[0m 3ms/step - loss: 1376.8733 - output1_loss: 1209.7135 - output2_loss: 167.1706 - val_loss: 1342.3516 - val_output1_loss: 1177.2589 - val_output2_loss: 164.9306\n",
            "Epoch 72/200\n",
            "\u001b[1m60/60\u001b[0m \u001b[32m━━━━━━━━━━━━━━━━━━━━\u001b[0m\u001b[37m\u001b[0m \u001b[1m0s\u001b[0m 3ms/step - loss: 1399.4689 - output1_loss: 1235.3002 - output2_loss: 164.1837 - val_loss: 1332.3298 - val_output1_loss: 1166.7695 - val_output2_loss: 165.4027\n",
            "Epoch 73/200\n",
            "\u001b[1m60/60\u001b[0m \u001b[32m━━━━━━━━━━━━━━━━━━━━\u001b[0m\u001b[37m\u001b[0m \u001b[1m0s\u001b[0m 4ms/step - loss: 1346.0265 - output1_loss: 1175.8579 - output2_loss: 170.1819 - val_loss: 1321.9169 - val_output1_loss: 1155.7869 - val_output2_loss: 165.9697\n",
            "Epoch 74/200\n",
            "\u001b[1m60/60\u001b[0m \u001b[32m━━━━━━━━━━━━━━━━━━━━\u001b[0m\u001b[37m\u001b[0m \u001b[1m0s\u001b[0m 3ms/step - loss: 1342.2358 - output1_loss: 1174.1051 - output2_loss: 168.1615 - val_loss: 1310.7180 - val_output1_loss: 1144.0916 - val_output2_loss: 166.4560\n",
            "Epoch 75/200\n",
            "\u001b[1m60/60\u001b[0m \u001b[32m━━━━━━━━━━━━━━━━━━━━\u001b[0m\u001b[37m\u001b[0m \u001b[1m0s\u001b[0m 4ms/step - loss: 1356.9805 - output1_loss: 1190.0919 - output2_loss: 166.8805 - val_loss: 1299.1674 - val_output1_loss: 1132.1954 - val_output2_loss: 166.7844\n",
            "Epoch 76/200\n",
            "\u001b[1m60/60\u001b[0m \u001b[32m━━━━━━━━━━━━━━━━━━━━\u001b[0m\u001b[37m\u001b[0m \u001b[1m0s\u001b[0m 3ms/step - loss: 1337.5692 - output1_loss: 1167.2634 - output2_loss: 170.3438 - val_loss: 1289.0533 - val_output1_loss: 1121.1051 - val_output2_loss: 167.7653\n",
            "Epoch 77/200\n",
            "\u001b[1m60/60\u001b[0m \u001b[32m━━━━━━━━━━━━━━━━━━━━\u001b[0m\u001b[37m\u001b[0m \u001b[1m0s\u001b[0m 3ms/step - loss: 1326.1167 - output1_loss: 1158.7535 - output2_loss: 167.3439 - val_loss: 1278.1492 - val_output1_loss: 1109.5778 - val_output2_loss: 168.3854\n",
            "Epoch 78/200\n",
            "\u001b[1m60/60\u001b[0m \u001b[32m━━━━━━━━━━━━━━━━━━━━\u001b[0m\u001b[37m\u001b[0m \u001b[1m0s\u001b[0m 3ms/step - loss: 1298.9065 - output1_loss: 1131.0594 - output2_loss: 167.8358 - val_loss: 1266.4056 - val_output1_loss: 1098.1198 - val_output2_loss: 168.0948\n",
            "Epoch 79/200\n",
            "\u001b[1m60/60\u001b[0m \u001b[32m━━━━━━━━━━━━━━━━━━━━\u001b[0m\u001b[37m\u001b[0m \u001b[1m0s\u001b[0m 3ms/step - loss: 1318.2191 - output1_loss: 1147.5486 - output2_loss: 170.6620 - val_loss: 1254.8936 - val_output1_loss: 1086.2462 - val_output2_loss: 168.4498\n",
            "Epoch 80/200\n",
            "\u001b[1m60/60\u001b[0m \u001b[32m━━━━━━━━━━━━━━━━━━━━\u001b[0m\u001b[37m\u001b[0m \u001b[1m0s\u001b[0m 3ms/step - loss: 1287.3337 - output1_loss: 1119.4409 - output2_loss: 167.8668 - val_loss: 1243.3497 - val_output1_loss: 1074.2722 - val_output2_loss: 168.8729\n",
            "Epoch 81/200\n",
            "\u001b[1m60/60\u001b[0m \u001b[32m━━━━━━━━━━━━━━━━━━━━\u001b[0m\u001b[37m\u001b[0m \u001b[1m0s\u001b[0m 4ms/step - loss: 1257.2880 - output1_loss: 1088.9277 - output2_loss: 168.3730 - val_loss: 1233.1693 - val_output1_loss: 1063.0626 - val_output2_loss: 169.9135\n",
            "Epoch 82/200\n",
            "\u001b[1m60/60\u001b[0m \u001b[32m━━━━━━━━━━━━━━━━━━━━\u001b[0m\u001b[37m\u001b[0m \u001b[1m0s\u001b[0m 4ms/step - loss: 1217.3545 - output1_loss: 1047.9088 - output2_loss: 169.4211 - val_loss: 1220.2351 - val_output1_loss: 1050.4048 - val_output2_loss: 169.6205\n",
            "Epoch 83/200\n",
            "\u001b[1m60/60\u001b[0m \u001b[32m━━━━━━━━━━━━━━━━━━━━\u001b[0m\u001b[37m\u001b[0m \u001b[1m0s\u001b[0m 3ms/step - loss: 1235.5889 - output1_loss: 1063.0531 - output2_loss: 172.5331 - val_loss: 1209.0077 - val_output1_loss: 1038.8876 - val_output2_loss: 169.9187\n",
            "Epoch 84/200\n",
            "\u001b[1m60/60\u001b[0m \u001b[32m━━━━━━━━━━━━━━━━━━━━\u001b[0m\u001b[37m\u001b[0m \u001b[1m0s\u001b[0m 3ms/step - loss: 1239.6027 - output1_loss: 1067.6130 - output2_loss: 171.9961 - val_loss: 1197.3916 - val_output1_loss: 1026.2941 - val_output2_loss: 170.8872\n",
            "Epoch 85/200\n",
            "\u001b[1m60/60\u001b[0m \u001b[32m━━━━━━━━━━━━━━━━━━━━\u001b[0m\u001b[37m\u001b[0m \u001b[1m0s\u001b[0m 3ms/step - loss: 1192.0613 - output1_loss: 1015.8209 - output2_loss: 176.2856 - val_loss: 1185.2693 - val_output1_loss: 1014.3409 - val_output2_loss: 170.7230\n",
            "Epoch 86/200\n",
            "\u001b[1m60/60\u001b[0m \u001b[32m━━━━━━━━━━━━━━━━━━━━\u001b[0m\u001b[37m\u001b[0m \u001b[1m0s\u001b[0m 3ms/step - loss: 1240.9818 - output1_loss: 1068.2634 - output2_loss: 172.7108 - val_loss: 1172.2321 - val_output1_loss: 1000.9520 - val_output2_loss: 171.0573\n",
            "Epoch 87/200\n",
            "\u001b[1m60/60\u001b[0m \u001b[32m━━━━━━━━━━━━━━━━━━━━\u001b[0m\u001b[37m\u001b[0m \u001b[1m0s\u001b[0m 3ms/step - loss: 1230.7527 - output1_loss: 1056.9830 - output2_loss: 173.7628 - val_loss: 1160.0096 - val_output1_loss: 988.5342 - val_output2_loss: 171.2593\n",
            "Epoch 88/200\n",
            "\u001b[1m60/60\u001b[0m \u001b[32m━━━━━━━━━━━━━━━━━━━━\u001b[0m\u001b[37m\u001b[0m \u001b[1m0s\u001b[0m 3ms/step - loss: 1201.4725 - output1_loss: 1029.1365 - output2_loss: 172.3452 - val_loss: 1149.2074 - val_output1_loss: 977.4172 - val_output2_loss: 171.5909\n",
            "Epoch 89/200\n",
            "\u001b[1m60/60\u001b[0m \u001b[32m━━━━━━━━━━━━━━━━━━━━\u001b[0m\u001b[37m\u001b[0m \u001b[1m0s\u001b[0m 3ms/step - loss: 1151.8820 - output1_loss: 979.3655 - output2_loss: 172.4879 - val_loss: 1134.7068 - val_output1_loss: 962.5547 - val_output2_loss: 171.9238\n",
            "Epoch 90/200\n",
            "\u001b[1m60/60\u001b[0m \u001b[32m━━━━━━━━━━━━━━━━━━━━\u001b[0m\u001b[37m\u001b[0m \u001b[1m0s\u001b[0m 3ms/step - loss: 1164.3175 - output1_loss: 988.5722 - output2_loss: 175.7553 - val_loss: 1122.5983 - val_output1_loss: 949.7659 - val_output2_loss: 172.6148\n",
            "Epoch 91/200\n",
            "\u001b[1m60/60\u001b[0m \u001b[32m━━━━━━━━━━━━━━━━━━━━\u001b[0m\u001b[37m\u001b[0m \u001b[1m0s\u001b[0m 3ms/step - loss: 1137.9514 - output1_loss: 963.8408 - output2_loss: 174.1110 - val_loss: 1109.2592 - val_output1_loss: 936.5817 - val_output2_loss: 172.4602\n",
            "Epoch 92/200\n",
            "\u001b[1m60/60\u001b[0m \u001b[32m━━━━━━━━━━━━━━━━━━━━\u001b[0m\u001b[37m\u001b[0m \u001b[1m0s\u001b[0m 3ms/step - loss: 1092.8195 - output1_loss: 920.4661 - output2_loss: 172.3772 - val_loss: 1096.6223 - val_output1_loss: 923.6564 - val_output2_loss: 172.7514\n",
            "Epoch 93/200\n",
            "\u001b[1m60/60\u001b[0m \u001b[32m━━━━━━━━━━━━━━━━━━━━\u001b[0m\u001b[37m\u001b[0m \u001b[1m0s\u001b[0m 3ms/step - loss: 1104.5938 - output1_loss: 930.1693 - output2_loss: 174.4189 - val_loss: 1083.6306 - val_output1_loss: 910.0068 - val_output2_loss: 173.4126\n",
            "Epoch 94/200\n",
            "\u001b[1m60/60\u001b[0m \u001b[32m━━━━━━━━━━━━━━━━━━━━\u001b[0m\u001b[37m\u001b[0m \u001b[1m0s\u001b[0m 3ms/step - loss: 1126.9884 - output1_loss: 953.2522 - output2_loss: 173.7706 - val_loss: 1070.9225 - val_output1_loss: 897.4933 - val_output2_loss: 173.2285\n",
            "Epoch 95/200\n",
            "\u001b[1m60/60\u001b[0m \u001b[32m━━━━━━━━━━━━━━━━━━━━\u001b[0m\u001b[37m\u001b[0m \u001b[1m0s\u001b[0m 3ms/step - loss: 1099.0530 - output1_loss: 923.0273 - output2_loss: 176.0107 - val_loss: 1057.6301 - val_output1_loss: 883.3151 - val_output2_loss: 174.0668\n",
            "Epoch 96/200\n",
            "\u001b[1m60/60\u001b[0m \u001b[32m━━━━━━━━━━━━━━━━━━━━\u001b[0m\u001b[37m\u001b[0m \u001b[1m0s\u001b[0m 3ms/step - loss: 1070.0574 - output1_loss: 892.3641 - output2_loss: 177.6923 - val_loss: 1042.8418 - val_output1_loss: 868.7342 - val_output2_loss: 173.8970\n",
            "Epoch 97/200\n",
            "\u001b[1m60/60\u001b[0m \u001b[32m━━━━━━━━━━━━━━━━━━━━\u001b[0m\u001b[37m\u001b[0m \u001b[1m0s\u001b[0m 4ms/step - loss: 1052.8003 - output1_loss: 878.0671 - output2_loss: 174.7301 - val_loss: 1029.1486 - val_output1_loss: 854.9000 - val_output2_loss: 174.0433\n",
            "Epoch 98/200\n",
            "\u001b[1m60/60\u001b[0m \u001b[32m━━━━━━━━━━━━━━━━━━━━\u001b[0m\u001b[37m\u001b[0m \u001b[1m0s\u001b[0m 4ms/step - loss: 1038.8220 - output1_loss: 864.3745 - output2_loss: 174.4318 - val_loss: 1014.9525 - val_output1_loss: 840.5806 - val_output2_loss: 174.1651\n",
            "Epoch 99/200\n",
            "\u001b[1m60/60\u001b[0m \u001b[32m━━━━━━━━━━━━━━━━━━━━\u001b[0m\u001b[37m\u001b[0m \u001b[1m0s\u001b[0m 3ms/step - loss: 1050.7228 - output1_loss: 876.0404 - output2_loss: 174.6934 - val_loss: 1000.7074 - val_output1_loss: 826.0975 - val_output2_loss: 174.4028\n",
            "Epoch 100/200\n",
            "\u001b[1m60/60\u001b[0m \u001b[32m━━━━━━━━━━━━━━━━━━━━\u001b[0m\u001b[37m\u001b[0m \u001b[1m0s\u001b[0m 3ms/step - loss: 1012.8920 - output1_loss: 836.0261 - output2_loss: 176.8617 - val_loss: 986.5681 - val_output1_loss: 811.6014 - val_output2_loss: 174.7630\n",
            "Epoch 101/200\n",
            "\u001b[1m60/60\u001b[0m \u001b[32m━━━━━━━━━━━━━━━━━━━━\u001b[0m\u001b[37m\u001b[0m \u001b[1m0s\u001b[0m 3ms/step - loss: 1008.5447 - output1_loss: 829.9995 - output2_loss: 178.5474 - val_loss: 971.8195 - val_output1_loss: 796.6088 - val_output2_loss: 174.9995\n",
            "Epoch 102/200\n",
            "\u001b[1m60/60\u001b[0m \u001b[32m━━━━━━━━━━━━━━━━━━━━\u001b[0m\u001b[37m\u001b[0m \u001b[1m0s\u001b[0m 3ms/step - loss: 995.2271 - output1_loss: 817.1109 - output2_loss: 178.1142 - val_loss: 957.2343 - val_output1_loss: 781.9603 - val_output2_loss: 175.0619\n",
            "Epoch 103/200\n",
            "\u001b[1m60/60\u001b[0m \u001b[32m━━━━━━━━━━━━━━━━━━━━\u001b[0m\u001b[37m\u001b[0m \u001b[1m0s\u001b[0m 3ms/step - loss: 954.4447 - output1_loss: 775.6446 - output2_loss: 178.7950 - val_loss: 944.6051 - val_output1_loss: 768.5222 - val_output2_loss: 175.9029\n",
            "Epoch 104/200\n",
            "\u001b[1m60/60\u001b[0m \u001b[32m━━━━━━━━━━━━━━━━━━━━\u001b[0m\u001b[37m\u001b[0m \u001b[1m0s\u001b[0m 3ms/step - loss: 953.7936 - output1_loss: 775.8053 - output2_loss: 177.9898 - val_loss: 927.9023 - val_output1_loss: 751.9953 - val_output2_loss: 175.7047\n",
            "Epoch 105/200\n",
            "\u001b[1m60/60\u001b[0m \u001b[32m━━━━━━━━━━━━━━━━━━━━\u001b[0m\u001b[37m\u001b[0m \u001b[1m0s\u001b[0m 3ms/step - loss: 927.2167 - output1_loss: 749.3392 - output2_loss: 177.8831 - val_loss: 914.6935 - val_output1_loss: 738.8754 - val_output2_loss: 175.6463\n",
            "Epoch 106/200\n",
            "\u001b[1m60/60\u001b[0m \u001b[32m━━━━━━━━━━━━━━━━━━━━\u001b[0m\u001b[37m\u001b[0m \u001b[1m0s\u001b[0m 3ms/step - loss: 929.7633 - output1_loss: 747.7513 - output2_loss: 181.9997 - val_loss: 897.4780 - val_output1_loss: 721.4105 - val_output2_loss: 175.8757\n",
            "Epoch 107/200\n",
            "\u001b[1m60/60\u001b[0m \u001b[32m━━━━━━━━━━━━━━━━━━━━\u001b[0m\u001b[37m\u001b[0m \u001b[1m0s\u001b[0m 3ms/step - loss: 916.6962 - output1_loss: 739.4678 - output2_loss: 177.2205 - val_loss: 883.1382 - val_output1_loss: 706.8933 - val_output2_loss: 176.0723\n",
            "Epoch 108/200\n",
            "\u001b[1m60/60\u001b[0m \u001b[32m━━━━━━━━━━━━━━━━━━━━\u001b[0m\u001b[37m\u001b[0m \u001b[1m0s\u001b[0m 3ms/step - loss: 911.2224 - output1_loss: 731.4205 - output2_loss: 179.8028 - val_loss: 866.6849 - val_output1_loss: 690.1306 - val_output2_loss: 176.3659\n",
            "Epoch 109/200\n",
            "\u001b[1m60/60\u001b[0m \u001b[32m━━━━━━━━━━━━━━━━━━━━\u001b[0m\u001b[37m\u001b[0m \u001b[1m0s\u001b[0m 3ms/step - loss: 885.7144 - output1_loss: 706.8417 - output2_loss: 178.8719 - val_loss: 853.0231 - val_output1_loss: 676.0394 - val_output2_loss: 176.8249\n",
            "Epoch 110/200\n",
            "\u001b[1m60/60\u001b[0m \u001b[32m━━━━━━━━━━━━━━━━━━━━\u001b[0m\u001b[37m\u001b[0m \u001b[1m0s\u001b[0m 3ms/step - loss: 858.2953 - output1_loss: 679.4459 - output2_loss: 178.8327 - val_loss: 835.3881 - val_output1_loss: 658.4365 - val_output2_loss: 176.7720\n",
            "Epoch 111/200\n",
            "\u001b[1m60/60\u001b[0m \u001b[32m━━━━━━━━━━━━━━━━━━━━\u001b[0m\u001b[37m\u001b[0m \u001b[1m0s\u001b[0m 3ms/step - loss: 846.5646 - output1_loss: 668.9652 - output2_loss: 177.6070 - val_loss: 820.1955 - val_output1_loss: 642.3676 - val_output2_loss: 177.6585\n",
            "Epoch 112/200\n",
            "\u001b[1m60/60\u001b[0m \u001b[32m━━━━━━━━━━━━━━━━━━━━\u001b[0m\u001b[37m\u001b[0m \u001b[1m0s\u001b[0m 3ms/step - loss: 838.0145 - output1_loss: 657.8271 - output2_loss: 180.1911 - val_loss: 803.8547 - val_output1_loss: 626.2116 - val_output2_loss: 177.4759\n",
            "Epoch 113/200\n",
            "\u001b[1m60/60\u001b[0m \u001b[32m━━━━━━━━━━━━━━━━━━━━\u001b[0m\u001b[37m\u001b[0m \u001b[1m0s\u001b[0m 3ms/step - loss: 825.7549 - output1_loss: 644.6065 - output2_loss: 181.1341 - val_loss: 788.7082 - val_output1_loss: 610.4747 - val_output2_loss: 178.0852\n",
            "Epoch 114/200\n",
            "\u001b[1m60/60\u001b[0m \u001b[32m━━━━━━━━━━━━━━━━━━━━\u001b[0m\u001b[37m\u001b[0m \u001b[1m0s\u001b[0m 3ms/step - loss: 808.7283 - output1_loss: 627.7438 - output2_loss: 180.9923 - val_loss: 771.9760 - val_output1_loss: 593.6469 - val_output2_loss: 178.1797\n",
            "Epoch 115/200\n",
            "\u001b[1m60/60\u001b[0m \u001b[32m━━━━━━━━━━━━━━━━━━━━\u001b[0m\u001b[37m\u001b[0m \u001b[1m0s\u001b[0m 4ms/step - loss: 781.5151 - output1_loss: 597.2095 - output2_loss: 184.3201 - val_loss: 755.8813 - val_output1_loss: 577.3808 - val_output2_loss: 178.3523\n",
            "Epoch 116/200\n",
            "\u001b[1m60/60\u001b[0m \u001b[32m━━━━━━━━━━━━━━━━━━━━\u001b[0m\u001b[37m\u001b[0m \u001b[1m0s\u001b[0m 4ms/step - loss: 760.4948 - output1_loss: 579.7415 - output2_loss: 180.7449 - val_loss: 741.9870 - val_output1_loss: 563.6527 - val_output2_loss: 178.2184\n",
            "Epoch 117/200\n",
            "\u001b[1m60/60\u001b[0m \u001b[32m━━━━━━━━━━━━━━━━━━━━\u001b[0m\u001b[37m\u001b[0m \u001b[1m0s\u001b[0m 4ms/step - loss: 748.4711 - output1_loss: 569.8423 - output2_loss: 178.6386 - val_loss: 725.1230 - val_output1_loss: 545.6907 - val_output2_loss: 179.3163\n",
            "Epoch 118/200\n",
            "\u001b[1m60/60\u001b[0m \u001b[32m━━━━━━━━━━━━━━━━━━━━\u001b[0m\u001b[37m\u001b[0m \u001b[1m0s\u001b[0m 3ms/step - loss: 738.7866 - output1_loss: 553.3922 - output2_loss: 185.3925 - val_loss: 708.2181 - val_output1_loss: 529.4035 - val_output2_loss: 178.7044\n",
            "Epoch 119/200\n",
            "\u001b[1m60/60\u001b[0m \u001b[32m━━━━━━━━━━━━━━━━━━━━\u001b[0m\u001b[37m\u001b[0m \u001b[1m0s\u001b[0m 3ms/step - loss: 723.2391 - output1_loss: 542.7108 - output2_loss: 180.5281 - val_loss: 689.7758 - val_output1_loss: 510.7798 - val_output2_loss: 178.8744\n",
            "Epoch 120/200\n",
            "\u001b[1m60/60\u001b[0m \u001b[32m━━━━━━━━━━━━━━━━━━━━\u001b[0m\u001b[37m\u001b[0m \u001b[1m0s\u001b[0m 4ms/step - loss: 676.2005 - output1_loss: 496.3612 - output2_loss: 179.8295 - val_loss: 673.8577 - val_output1_loss: 494.0002 - val_output2_loss: 179.7432\n",
            "Epoch 121/200\n",
            "\u001b[1m60/60\u001b[0m \u001b[32m━━━━━━━━━━━━━━━━━━━━\u001b[0m\u001b[37m\u001b[0m \u001b[1m0s\u001b[0m 4ms/step - loss: 684.7684 - output1_loss: 500.1553 - output2_loss: 184.6172 - val_loss: 657.5404 - val_output1_loss: 477.1225 - val_output2_loss: 180.3079\n",
            "Epoch 122/200\n",
            "\u001b[1m60/60\u001b[0m \u001b[32m━━━━━━━━━━━━━━━━━━━━\u001b[0m\u001b[37m\u001b[0m \u001b[1m0s\u001b[0m 4ms/step - loss: 660.8835 - output1_loss: 478.7938 - output2_loss: 182.0933 - val_loss: 641.4558 - val_output1_loss: 460.7807 - val_output2_loss: 180.5767\n",
            "Epoch 123/200\n",
            "\u001b[1m60/60\u001b[0m \u001b[32m━━━━━━━━━━━━━━━━━━━━\u001b[0m\u001b[37m\u001b[0m \u001b[1m0s\u001b[0m 4ms/step - loss: 644.2517 - output1_loss: 462.3401 - output2_loss: 181.9079 - val_loss: 624.4150 - val_output1_loss: 443.9775 - val_output2_loss: 180.3415\n",
            "Epoch 124/200\n",
            "\u001b[1m60/60\u001b[0m \u001b[32m━━━━━━━━━━━━━━━━━━━━\u001b[0m\u001b[37m\u001b[0m \u001b[1m0s\u001b[0m 3ms/step - loss: 624.4508 - output1_loss: 443.7877 - output2_loss: 180.6675 - val_loss: 609.2179 - val_output1_loss: 428.7557 - val_output2_loss: 180.3851\n",
            "Epoch 125/200\n",
            "\u001b[1m60/60\u001b[0m \u001b[32m━━━━━━━━━━━━━━━━━━━━\u001b[0m\u001b[37m\u001b[0m \u001b[1m0s\u001b[0m 3ms/step - loss: 616.3399 - output1_loss: 434.7773 - output2_loss: 181.5661 - val_loss: 592.7873 - val_output1_loss: 410.7923 - val_output2_loss: 181.9166\n",
            "Epoch 126/200\n",
            "\u001b[1m60/60\u001b[0m \u001b[32m━━━━━━━━━━━━━━━━━━━━\u001b[0m\u001b[37m\u001b[0m \u001b[1m0s\u001b[0m 4ms/step - loss: 586.8469 - output1_loss: 402.7050 - output2_loss: 184.1380 - val_loss: 575.8237 - val_output1_loss: 395.1315 - val_output2_loss: 180.6223\n",
            "Epoch 127/200\n",
            "\u001b[1m60/60\u001b[0m \u001b[32m━━━━━━━━━━━━━━━━━━━━\u001b[0m\u001b[37m\u001b[0m \u001b[1m0s\u001b[0m 4ms/step - loss: 578.3011 - output1_loss: 396.2037 - output2_loss: 182.0971 - val_loss: 559.2297 - val_output1_loss: 377.6472 - val_output2_loss: 181.5077\n",
            "Epoch 128/200\n",
            "\u001b[1m60/60\u001b[0m \u001b[32m━━━━━━━━━━━━━━━━━━━━\u001b[0m\u001b[37m\u001b[0m \u001b[1m0s\u001b[0m 3ms/step - loss: 562.5825 - output1_loss: 380.6886 - output2_loss: 181.9038 - val_loss: 542.9508 - val_output1_loss: 361.7368 - val_output2_loss: 181.1472\n",
            "Epoch 129/200\n",
            "\u001b[1m60/60\u001b[0m \u001b[32m━━━━━━━━━━━━━━━━━━━━\u001b[0m\u001b[37m\u001b[0m \u001b[1m0s\u001b[0m 3ms/step - loss: 550.0122 - output1_loss: 367.2597 - output2_loss: 182.7428 - val_loss: 527.4205 - val_output1_loss: 345.2752 - val_output2_loss: 182.0794\n",
            "Epoch 130/200\n",
            "\u001b[1m60/60\u001b[0m \u001b[32m━━━━━━━━━━━━━━━━━━━━\u001b[0m\u001b[37m\u001b[0m \u001b[1m0s\u001b[0m 3ms/step - loss: 531.1207 - output1_loss: 344.9763 - output2_loss: 186.1464 - val_loss: 511.6528 - val_output1_loss: 329.9284 - val_output2_loss: 181.6749\n",
            "Epoch 131/200\n",
            "\u001b[1m60/60\u001b[0m \u001b[32m━━━━━━━━━━━━━━━━━━━━\u001b[0m\u001b[37m\u001b[0m \u001b[1m0s\u001b[0m 3ms/step - loss: 518.1986 - output1_loss: 334.3106 - output2_loss: 183.8942 - val_loss: 496.4391 - val_output1_loss: 314.0487 - val_output2_loss: 182.3488\n",
            "Epoch 132/200\n",
            "\u001b[1m60/60\u001b[0m \u001b[32m━━━━━━━━━━━━━━━━━━━━\u001b[0m\u001b[37m\u001b[0m \u001b[1m0s\u001b[0m 3ms/step - loss: 499.5624 - output1_loss: 317.6383 - output2_loss: 181.9261 - val_loss: 481.2206 - val_output1_loss: 299.1726 - val_output2_loss: 182.0153\n",
            "Epoch 133/200\n",
            "\u001b[1m60/60\u001b[0m \u001b[32m━━━━━━━━━━━━━━━━━━━━\u001b[0m\u001b[37m\u001b[0m \u001b[1m0s\u001b[0m 3ms/step - loss: 477.0250 - output1_loss: 295.2445 - output2_loss: 181.7737 - val_loss: 463.2635 - val_output1_loss: 282.7850 - val_output2_loss: 180.4411\n",
            "Epoch 134/200\n",
            "\u001b[1m60/60\u001b[0m \u001b[32m━━━━━━━━━━━━━━━━━━━━\u001b[0m\u001b[37m\u001b[0m \u001b[1m0s\u001b[0m 3ms/step - loss: 470.6350 - output1_loss: 288.2561 - output2_loss: 182.3802 - val_loss: 445.2784 - val_output1_loss: 267.7727 - val_output2_loss: 177.4676\n",
            "Epoch 135/200\n",
            "\u001b[1m60/60\u001b[0m \u001b[32m━━━━━━━━━━━━━━━━━━━━\u001b[0m\u001b[37m\u001b[0m \u001b[1m0s\u001b[0m 3ms/step - loss: 445.6005 - output1_loss: 268.5272 - output2_loss: 177.0677 - val_loss: 426.6914 - val_output1_loss: 252.8471 - val_output2_loss: 173.8173\n",
            "Epoch 136/200\n",
            "\u001b[1m60/60\u001b[0m \u001b[32m━━━━━━━━━━━━━━━━━━━━\u001b[0m\u001b[37m\u001b[0m \u001b[1m0s\u001b[0m 3ms/step - loss: 429.1113 - output1_loss: 254.9733 - output2_loss: 174.1402 - val_loss: 408.3466 - val_output1_loss: 238.8130 - val_output2_loss: 169.5183\n",
            "Epoch 137/200\n",
            "\u001b[1m60/60\u001b[0m \u001b[32m━━━━━━━━━━━━━━━━━━━━\u001b[0m\u001b[37m\u001b[0m \u001b[1m0s\u001b[0m 3ms/step - loss: 403.8097 - output1_loss: 234.2684 - output2_loss: 169.5486 - val_loss: 390.5034 - val_output1_loss: 224.7602 - val_output2_loss: 165.7367\n",
            "Epoch 138/200\n",
            "\u001b[1m60/60\u001b[0m \u001b[32m━━━━━━━━━━━━━━━━━━━━\u001b[0m\u001b[37m\u001b[0m \u001b[1m0s\u001b[0m 3ms/step - loss: 396.8361 - output1_loss: 232.2566 - output2_loss: 164.5804 - val_loss: 372.0938 - val_output1_loss: 210.9313 - val_output2_loss: 161.1620\n",
            "Epoch 139/200\n",
            "\u001b[1m60/60\u001b[0m \u001b[32m━━━━━━━━━━━━━━━━━━━━\u001b[0m\u001b[37m\u001b[0m \u001b[1m0s\u001b[0m 3ms/step - loss: 370.1693 - output1_loss: 210.7347 - output2_loss: 159.4300 - val_loss: 352.1624 - val_output1_loss: 196.8280 - val_output2_loss: 155.3268\n",
            "Epoch 140/200\n",
            "\u001b[1m60/60\u001b[0m \u001b[32m━━━━━━━━━━━━━━━━━━━━\u001b[0m\u001b[37m\u001b[0m \u001b[1m0s\u001b[0m 3ms/step - loss: 349.6012 - output1_loss: 195.9549 - output2_loss: 153.6429 - val_loss: 333.9504 - val_output1_loss: 184.4953 - val_output2_loss: 149.4573\n",
            "Epoch 141/200\n",
            "\u001b[1m60/60\u001b[0m \u001b[32m━━━━━━━━━━━━━━━━━━━━\u001b[0m\u001b[37m\u001b[0m \u001b[1m0s\u001b[0m 3ms/step - loss: 333.4895 - output1_loss: 183.1212 - output2_loss: 150.3728 - val_loss: 315.0283 - val_output1_loss: 171.3636 - val_output2_loss: 143.6599\n",
            "Epoch 142/200\n",
            "\u001b[1m60/60\u001b[0m \u001b[32m━━━━━━━━━━━━━━━━━━━━\u001b[0m\u001b[37m\u001b[0m \u001b[1m0s\u001b[0m 4ms/step - loss: 311.8943 - output1_loss: 168.8212 - output2_loss: 143.0704 - val_loss: 296.4451 - val_output1_loss: 159.9915 - val_output2_loss: 136.4645\n",
            "Epoch 143/200\n",
            "\u001b[1m60/60\u001b[0m \u001b[32m━━━━━━━━━━━━━━━━━━━━\u001b[0m\u001b[37m\u001b[0m \u001b[1m0s\u001b[0m 4ms/step - loss: 290.0920 - output1_loss: 155.8296 - output2_loss: 134.2623 - val_loss: 277.2888 - val_output1_loss: 148.1671 - val_output2_loss: 129.1328\n",
            "Epoch 144/200\n",
            "\u001b[1m60/60\u001b[0m \u001b[32m━━━━━━━━━━━━━━━━━━━━\u001b[0m\u001b[37m\u001b[0m \u001b[1m0s\u001b[0m 4ms/step - loss: 274.4409 - output1_loss: 146.6407 - output2_loss: 127.8005 - val_loss: 258.5789 - val_output1_loss: 137.1733 - val_output2_loss: 121.4187\n",
            "Epoch 145/200\n",
            "\u001b[1m60/60\u001b[0m \u001b[32m━━━━━━━━━━━━━━━━━━━━\u001b[0m\u001b[37m\u001b[0m \u001b[1m0s\u001b[0m 4ms/step - loss: 257.8758 - output1_loss: 136.6360 - output2_loss: 121.2405 - val_loss: 239.0107 - val_output1_loss: 126.2775 - val_output2_loss: 112.7399\n",
            "Epoch 146/200\n",
            "\u001b[1m60/60\u001b[0m \u001b[32m━━━━━━━━━━━━━━━━━━━━\u001b[0m\u001b[37m\u001b[0m \u001b[1m0s\u001b[0m 3ms/step - loss: 236.7333 - output1_loss: 126.0228 - output2_loss: 110.7146 - val_loss: 221.0959 - val_output1_loss: 116.7198 - val_output2_loss: 104.3720\n",
            "Epoch 147/200\n",
            "\u001b[1m60/60\u001b[0m \u001b[32m━━━━━━━━━━━━━━━━━━━━\u001b[0m\u001b[37m\u001b[0m \u001b[1m0s\u001b[0m 3ms/step - loss: 218.8890 - output1_loss: 115.5417 - output2_loss: 103.3444 - val_loss: 203.2574 - val_output1_loss: 107.1380 - val_output2_loss: 96.1274\n",
            "Epoch 148/200\n",
            "\u001b[1m60/60\u001b[0m \u001b[32m━━━━━━━━━━━━━━━━━━━━\u001b[0m\u001b[37m\u001b[0m \u001b[1m0s\u001b[0m 3ms/step - loss: 205.4972 - output1_loss: 108.2499 - output2_loss: 97.2423 - val_loss: 187.4758 - val_output1_loss: 98.4882 - val_output2_loss: 89.0003\n",
            "Epoch 149/200\n",
            "\u001b[1m60/60\u001b[0m \u001b[32m━━━━━━━━━━━━━━━━━━━━\u001b[0m\u001b[37m\u001b[0m \u001b[1m0s\u001b[0m 3ms/step - loss: 188.5189 - output1_loss: 101.3670 - output2_loss: 87.1498 - val_loss: 171.6390 - val_output1_loss: 90.3838 - val_output2_loss: 81.2636\n",
            "Epoch 150/200\n",
            "\u001b[1m60/60\u001b[0m \u001b[32m━━━━━━━━━━━━━━━━━━━━\u001b[0m\u001b[37m\u001b[0m \u001b[1m0s\u001b[0m 3ms/step - loss: 172.4214 - output1_loss: 92.4131 - output2_loss: 80.0079 - val_loss: 157.5604 - val_output1_loss: 82.5892 - val_output2_loss: 74.9707\n",
            "Epoch 151/200\n",
            "\u001b[1m60/60\u001b[0m \u001b[32m━━━━━━━━━━━━━━━━━━━━\u001b[0m\u001b[37m\u001b[0m \u001b[1m0s\u001b[0m 3ms/step - loss: 157.2674 - output1_loss: 81.8422 - output2_loss: 75.4240 - val_loss: 145.8165 - val_output1_loss: 75.9270 - val_output2_loss: 69.8948\n",
            "Epoch 152/200\n",
            "\u001b[1m60/60\u001b[0m \u001b[32m━━━━━━━━━━━━━━━━━━━━\u001b[0m\u001b[37m\u001b[0m \u001b[1m0s\u001b[0m 3ms/step - loss: 147.1042 - output1_loss: 75.7699 - output2_loss: 71.3323 - val_loss: 135.6156 - val_output1_loss: 69.5394 - val_output2_loss: 66.0666\n",
            "Epoch 153/200\n",
            "\u001b[1m60/60\u001b[0m \u001b[32m━━━━━━━━━━━━━━━━━━━━\u001b[0m\u001b[37m\u001b[0m \u001b[1m0s\u001b[0m 3ms/step - loss: 138.4596 - output1_loss: 72.4625 - output2_loss: 65.9966 - val_loss: 126.1781 - val_output1_loss: 63.3560 - val_output2_loss: 62.8210\n",
            "Epoch 154/200\n",
            "\u001b[1m60/60\u001b[0m \u001b[32m━━━━━━━━━━━━━━━━━━━━\u001b[0m\u001b[37m\u001b[0m \u001b[1m0s\u001b[0m 3ms/step - loss: 125.5220 - output1_loss: 62.8807 - output2_loss: 62.6401 - val_loss: 118.6265 - val_output1_loss: 58.0981 - val_output2_loss: 60.5307\n",
            "Epoch 155/200\n",
            "\u001b[1m60/60\u001b[0m \u001b[32m━━━━━━━━━━━━━━━━━━━━\u001b[0m\u001b[37m\u001b[0m \u001b[1m0s\u001b[0m 3ms/step - loss: 119.7726 - output1_loss: 58.1260 - output2_loss: 61.6471 - val_loss: 112.1353 - val_output1_loss: 53.2084 - val_output2_loss: 58.9221\n",
            "Epoch 156/200\n",
            "\u001b[1m60/60\u001b[0m \u001b[32m━━━━━━━━━━━━━━━━━━━━\u001b[0m\u001b[37m\u001b[0m \u001b[1m0s\u001b[0m 3ms/step - loss: 114.3139 - output1_loss: 54.0878 - output2_loss: 60.2241 - val_loss: 106.3924 - val_output1_loss: 48.8914 - val_output2_loss: 57.5016\n",
            "Epoch 157/200\n",
            "\u001b[1m60/60\u001b[0m \u001b[32m━━━━━━━━━━━━━━━━━━━━\u001b[0m\u001b[37m\u001b[0m \u001b[1m0s\u001b[0m 3ms/step - loss: 110.3724 - output1_loss: 50.6114 - output2_loss: 59.7589 - val_loss: 101.6924 - val_output1_loss: 45.2678 - val_output2_loss: 56.4301\n",
            "Epoch 158/200\n",
            "\u001b[1m60/60\u001b[0m \u001b[32m━━━━━━━━━━━━━━━━━━━━\u001b[0m\u001b[37m\u001b[0m \u001b[1m0s\u001b[0m 3ms/step - loss: 105.8595 - output1_loss: 46.8351 - output2_loss: 59.0237 - val_loss: 97.2445 - val_output1_loss: 41.7229 - val_output2_loss: 55.5227\n",
            "Epoch 159/200\n",
            "\u001b[1m60/60\u001b[0m \u001b[32m━━━━━━━━━━━━━━━━━━━━\u001b[0m\u001b[37m\u001b[0m \u001b[1m0s\u001b[0m 3ms/step - loss: 97.9182 - output1_loss: 41.2122 - output2_loss: 56.7047 - val_loss: 93.4674 - val_output1_loss: 38.7639 - val_output2_loss: 54.7074\n",
            "Epoch 160/200\n",
            "\u001b[1m60/60\u001b[0m \u001b[32m━━━━━━━━━━━━━━━━━━━━\u001b[0m\u001b[37m\u001b[0m \u001b[1m0s\u001b[0m 4ms/step - loss: 96.8808 - output1_loss: 40.7615 - output2_loss: 56.1205 - val_loss: 90.7268 - val_output1_loss: 36.1600 - val_output2_loss: 54.5651\n",
            "Epoch 161/200\n",
            "\u001b[1m60/60\u001b[0m \u001b[32m━━━━━━━━━━━━━━━━━━━━\u001b[0m\u001b[37m\u001b[0m \u001b[1m0s\u001b[0m 3ms/step - loss: 92.4820 - output1_loss: 37.7845 - output2_loss: 54.6967 - val_loss: 87.1440 - val_output1_loss: 33.9289 - val_output2_loss: 53.2190\n",
            "Epoch 162/200\n",
            "\u001b[1m60/60\u001b[0m \u001b[32m━━━━━━━━━━━━━━━━━━━━\u001b[0m\u001b[37m\u001b[0m \u001b[1m0s\u001b[0m 3ms/step - loss: 90.8644 - output1_loss: 35.1314 - output2_loss: 55.7332 - val_loss: 84.7889 - val_output1_loss: 32.3421 - val_output2_loss: 52.4578\n",
            "Epoch 163/200\n",
            "\u001b[1m60/60\u001b[0m \u001b[32m━━━━━━━━━━━━━━━━━━━━\u001b[0m\u001b[37m\u001b[0m \u001b[1m0s\u001b[0m 3ms/step - loss: 85.0276 - output1_loss: 32.2999 - output2_loss: 52.7296 - val_loss: 82.0967 - val_output1_loss: 30.3392 - val_output2_loss: 51.7656\n",
            "Epoch 164/200\n",
            "\u001b[1m60/60\u001b[0m \u001b[32m━━━━━━━━━━━━━━━━━━━━\u001b[0m\u001b[37m\u001b[0m \u001b[1m0s\u001b[0m 4ms/step - loss: 83.1358 - output1_loss: 30.5729 - output2_loss: 52.5630 - val_loss: 80.2310 - val_output1_loss: 29.0342 - val_output2_loss: 51.2049\n",
            "Epoch 165/200\n",
            "\u001b[1m60/60\u001b[0m \u001b[32m━━━━━━━━━━━━━━━━━━━━\u001b[0m\u001b[37m\u001b[0m \u001b[1m0s\u001b[0m 4ms/step - loss: 82.0070 - output1_loss: 29.3622 - output2_loss: 52.6432 - val_loss: 78.1486 - val_output1_loss: 27.7435 - val_output2_loss: 50.4164\n",
            "Epoch 166/200\n",
            "\u001b[1m60/60\u001b[0m \u001b[32m━━━━━━━━━━━━━━━━━━━━\u001b[0m\u001b[37m\u001b[0m \u001b[1m0s\u001b[0m 4ms/step - loss: 76.4579 - output1_loss: 27.2718 - output2_loss: 49.1861 - val_loss: 76.5015 - val_output1_loss: 26.7727 - val_output2_loss: 49.7384\n",
            "Epoch 167/200\n",
            "\u001b[1m60/60\u001b[0m \u001b[32m━━━━━━━━━━━━━━━━━━━━\u001b[0m\u001b[37m\u001b[0m \u001b[1m0s\u001b[0m 4ms/step - loss: 76.5275 - output1_loss: 27.0554 - output2_loss: 49.4713 - val_loss: 75.5712 - val_output1_loss: 25.9699 - val_output2_loss: 49.6074\n",
            "Epoch 168/200\n",
            "\u001b[1m60/60\u001b[0m \u001b[32m━━━━━━━━━━━━━━━━━━━━\u001b[0m\u001b[37m\u001b[0m \u001b[1m0s\u001b[0m 4ms/step - loss: 78.0624 - output1_loss: 26.9162 - output2_loss: 51.1454 - val_loss: 74.5322 - val_output1_loss: 25.3037 - val_output2_loss: 49.2333\n",
            "Epoch 169/200\n",
            "\u001b[1m60/60\u001b[0m \u001b[32m━━━━━━━━━━━━━━━━━━━━\u001b[0m\u001b[37m\u001b[0m \u001b[1m0s\u001b[0m 4ms/step - loss: 75.4915 - output1_loss: 26.3191 - output2_loss: 49.1748 - val_loss: 72.8026 - val_output1_loss: 24.9957 - val_output2_loss: 47.8197\n",
            "Epoch 170/200\n",
            "\u001b[1m60/60\u001b[0m \u001b[32m━━━━━━━━━━━━━━━━━━━━\u001b[0m\u001b[37m\u001b[0m \u001b[1m0s\u001b[0m 4ms/step - loss: 72.0804 - output1_loss: 24.7121 - output2_loss: 47.3689 - val_loss: 71.4758 - val_output1_loss: 24.3357 - val_output2_loss: 47.1527\n",
            "Epoch 171/200\n",
            "\u001b[1m60/60\u001b[0m \u001b[32m━━━━━━━━━━━━━━━━━━━━\u001b[0m\u001b[37m\u001b[0m \u001b[1m0s\u001b[0m 4ms/step - loss: 72.5965 - output1_loss: 24.5745 - output2_loss: 48.0219 - val_loss: 70.6650 - val_output1_loss: 24.1375 - val_output2_loss: 46.5423\n",
            "Epoch 172/200\n",
            "\u001b[1m60/60\u001b[0m \u001b[32m━━━━━━━━━━━━━━━━━━━━\u001b[0m\u001b[37m\u001b[0m \u001b[1m0s\u001b[0m 4ms/step - loss: 69.7744 - output1_loss: 24.1996 - output2_loss: 45.5755 - val_loss: 69.7500 - val_output1_loss: 23.7641 - val_output2_loss: 45.9971\n",
            "Epoch 173/200\n",
            "\u001b[1m60/60\u001b[0m \u001b[32m━━━━━━━━━━━━━━━━━━━━\u001b[0m\u001b[37m\u001b[0m \u001b[1m0s\u001b[0m 4ms/step - loss: 70.4970 - output1_loss: 23.8507 - output2_loss: 46.6458 - val_loss: 68.8667 - val_output1_loss: 23.4735 - val_output2_loss: 45.4059\n",
            "Epoch 174/200\n",
            "\u001b[1m60/60\u001b[0m \u001b[32m━━━━━━━━━━━━━━━━━━━━\u001b[0m\u001b[37m\u001b[0m \u001b[1m0s\u001b[0m 4ms/step - loss: 69.4980 - output1_loss: 23.5916 - output2_loss: 45.9053 - val_loss: 68.4694 - val_output1_loss: 23.3224 - val_output2_loss: 45.1646\n",
            "Epoch 175/200\n",
            "\u001b[1m60/60\u001b[0m \u001b[32m━━━━━━━━━━━━━━━━━━━━\u001b[0m\u001b[37m\u001b[0m \u001b[1m0s\u001b[0m 4ms/step - loss: 67.7494 - output1_loss: 23.1059 - output2_loss: 44.6453 - val_loss: 67.3850 - val_output1_loss: 23.1555 - val_output2_loss: 44.2439\n",
            "Epoch 176/200\n",
            "\u001b[1m60/60\u001b[0m \u001b[32m━━━━━━━━━━━━━━━━━━━━\u001b[0m\u001b[37m\u001b[0m \u001b[1m0s\u001b[0m 4ms/step - loss: 68.1636 - output1_loss: 23.6659 - output2_loss: 44.4974 - val_loss: 66.8098 - val_output1_loss: 23.1011 - val_output2_loss: 43.7233\n",
            "Epoch 177/200\n",
            "\u001b[1m60/60\u001b[0m \u001b[32m━━━━━━━━━━━━━━━━━━━━\u001b[0m\u001b[37m\u001b[0m \u001b[1m0s\u001b[0m 3ms/step - loss: 68.3962 - output1_loss: 24.5528 - output2_loss: 43.8428 - val_loss: 66.4836 - val_output1_loss: 23.1882 - val_output2_loss: 43.3069\n",
            "Epoch 178/200\n",
            "\u001b[1m60/60\u001b[0m \u001b[32m━━━━━━━━━━━━━━━━━━━━\u001b[0m\u001b[37m\u001b[0m \u001b[1m0s\u001b[0m 3ms/step - loss: 69.2611 - output1_loss: 24.9607 - output2_loss: 44.3003 - val_loss: 65.6784 - val_output1_loss: 22.9858 - val_output2_loss: 42.7069\n",
            "Epoch 179/200\n",
            "\u001b[1m60/60\u001b[0m \u001b[32m━━━━━━━━━━━━━━━━━━━━\u001b[0m\u001b[37m\u001b[0m \u001b[1m0s\u001b[0m 4ms/step - loss: 66.0085 - output1_loss: 22.6145 - output2_loss: 43.3942 - val_loss: 65.0880 - val_output1_loss: 22.8712 - val_output2_loss: 42.2332\n",
            "Epoch 180/200\n",
            "\u001b[1m60/60\u001b[0m \u001b[32m━━━━━━━━━━━━━━━━━━━━\u001b[0m\u001b[37m\u001b[0m \u001b[1m0s\u001b[0m 4ms/step - loss: 65.9498 - output1_loss: 23.6721 - output2_loss: 42.2770 - val_loss: 64.7199 - val_output1_loss: 22.8731 - val_output2_loss: 41.8618\n",
            "Epoch 181/200\n",
            "\u001b[1m60/60\u001b[0m \u001b[32m━━━━━━━━━━━━━━━━━━━━\u001b[0m\u001b[37m\u001b[0m \u001b[1m0s\u001b[0m 4ms/step - loss: 65.5462 - output1_loss: 23.1452 - output2_loss: 42.4008 - val_loss: 64.1112 - val_output1_loss: 22.8152 - val_output2_loss: 41.3122\n",
            "Epoch 182/200\n",
            "\u001b[1m60/60\u001b[0m \u001b[32m━━━━━━━━━━━━━━━━━━━━\u001b[0m\u001b[37m\u001b[0m \u001b[1m0s\u001b[0m 4ms/step - loss: 64.4881 - output1_loss: 23.4243 - output2_loss: 41.0626 - val_loss: 64.0155 - val_output1_loss: 22.9522 - val_output2_loss: 41.0762\n",
            "Epoch 183/200\n",
            "\u001b[1m60/60\u001b[0m \u001b[32m━━━━━━━━━━━━━━━━━━━━\u001b[0m\u001b[37m\u001b[0m \u001b[1m0s\u001b[0m 4ms/step - loss: 64.9186 - output1_loss: 23.8153 - output2_loss: 41.1028 - val_loss: 63.2309 - val_output1_loss: 22.7686 - val_output2_loss: 40.4792\n",
            "Epoch 184/200\n",
            "\u001b[1m60/60\u001b[0m \u001b[32m━━━━━━━━━━━━━━━━━━━━\u001b[0m\u001b[37m\u001b[0m \u001b[1m0s\u001b[0m 4ms/step - loss: 65.5445 - output1_loss: 23.7586 - output2_loss: 41.7857 - val_loss: 63.4408 - val_output1_loss: 23.0093 - val_output2_loss: 40.4443\n",
            "Epoch 185/200\n",
            "\u001b[1m60/60\u001b[0m \u001b[32m━━━━━━━━━━━━━━━━━━━━\u001b[0m\u001b[37m\u001b[0m \u001b[1m0s\u001b[0m 4ms/step - loss: 65.5069 - output1_loss: 23.0409 - output2_loss: 42.4661 - val_loss: 63.1217 - val_output1_loss: 23.3562 - val_output2_loss: 39.7846\n",
            "Epoch 186/200\n",
            "\u001b[1m60/60\u001b[0m \u001b[32m━━━━━━━━━━━━━━━━━━━━\u001b[0m\u001b[37m\u001b[0m \u001b[1m0s\u001b[0m 4ms/step - loss: 61.9360 - output1_loss: 22.6731 - output2_loss: 39.2618 - val_loss: 63.4134 - val_output1_loss: 22.7649 - val_output2_loss: 40.6721\n",
            "Epoch 187/200\n",
            "\u001b[1m60/60\u001b[0m \u001b[32m━━━━━━━━━━━━━━━━━━━━\u001b[0m\u001b[37m\u001b[0m \u001b[1m0s\u001b[0m 4ms/step - loss: 61.7315 - output1_loss: 23.0388 - output2_loss: 38.6917 - val_loss: 62.4996 - val_output1_loss: 22.7455 - val_output2_loss: 39.7759\n",
            "Epoch 188/200\n",
            "\u001b[1m60/60\u001b[0m \u001b[32m━━━━━━━━━━━━━━━━━━━━\u001b[0m\u001b[37m\u001b[0m \u001b[1m0s\u001b[0m 4ms/step - loss: 62.6043 - output1_loss: 23.5070 - output2_loss: 39.0984 - val_loss: 61.8656 - val_output1_loss: 22.7648 - val_output2_loss: 39.1217\n",
            "Epoch 189/200\n",
            "\u001b[1m60/60\u001b[0m \u001b[32m━━━━━━━━━━━━━━━━━━━━\u001b[0m\u001b[37m\u001b[0m \u001b[1m0s\u001b[0m 3ms/step - loss: 62.2781 - output1_loss: 23.5736 - output2_loss: 38.7044 - val_loss: 61.3405 - val_output1_loss: 22.8433 - val_output2_loss: 38.5186\n",
            "Epoch 190/200\n",
            "\u001b[1m60/60\u001b[0m \u001b[32m━━━━━━━━━━━━━━━━━━━━\u001b[0m\u001b[37m\u001b[0m \u001b[1m0s\u001b[0m 3ms/step - loss: 63.0843 - output1_loss: 24.3859 - output2_loss: 38.6972 - val_loss: 61.2151 - val_output1_loss: 22.8979 - val_output2_loss: 38.3358\n",
            "Epoch 191/200\n",
            "\u001b[1m60/60\u001b[0m \u001b[32m━━━━━━━━━━━━━━━━━━━━\u001b[0m\u001b[37m\u001b[0m \u001b[1m0s\u001b[0m 3ms/step - loss: 63.3665 - output1_loss: 23.7234 - output2_loss: 39.6436 - val_loss: 61.3526 - val_output1_loss: 23.0080 - val_output2_loss: 38.3595\n",
            "Epoch 192/200\n",
            "\u001b[1m60/60\u001b[0m \u001b[32m━━━━━━━━━━━━━━━━━━━━\u001b[0m\u001b[37m\u001b[0m \u001b[1m0s\u001b[0m 3ms/step - loss: 61.2896 - output1_loss: 23.4378 - output2_loss: 37.8515 - val_loss: 61.1112 - val_output1_loss: 23.4153 - val_output2_loss: 37.7202\n",
            "Epoch 193/200\n",
            "\u001b[1m60/60\u001b[0m \u001b[32m━━━━━━━━━━━━━━━━━━━━\u001b[0m\u001b[37m\u001b[0m \u001b[1m0s\u001b[0m 3ms/step - loss: 60.0201 - output1_loss: 22.7024 - output2_loss: 37.3191 - val_loss: 60.3355 - val_output1_loss: 22.8974 - val_output2_loss: 37.4580\n",
            "Epoch 194/200\n",
            "\u001b[1m60/60\u001b[0m \u001b[32m━━━━━━━━━━━━━━━━━━━━\u001b[0m\u001b[37m\u001b[0m \u001b[1m0s\u001b[0m 3ms/step - loss: 60.1934 - output1_loss: 23.6970 - output2_loss: 36.4983 - val_loss: 60.2623 - val_output1_loss: 22.9210 - val_output2_loss: 37.3615\n",
            "Epoch 195/200\n",
            "\u001b[1m60/60\u001b[0m \u001b[32m━━━━━━━━━━━━━━━━━━━━\u001b[0m\u001b[37m\u001b[0m \u001b[1m0s\u001b[0m 3ms/step - loss: 61.6478 - output1_loss: 23.9008 - output2_loss: 37.7458 - val_loss: 60.2822 - val_output1_loss: 23.0870 - val_output2_loss: 37.2117\n",
            "Epoch 196/200\n",
            "\u001b[1m60/60\u001b[0m \u001b[32m━━━━━━━━━━━━━━━━━━━━\u001b[0m\u001b[37m\u001b[0m \u001b[1m0s\u001b[0m 3ms/step - loss: 59.5955 - output1_loss: 23.8707 - output2_loss: 35.7232 - val_loss: 59.6209 - val_output1_loss: 22.7954 - val_output2_loss: 36.8485\n",
            "Epoch 197/200\n",
            "\u001b[1m60/60\u001b[0m \u001b[32m━━━━━━━━━━━━━━━━━━━━\u001b[0m\u001b[37m\u001b[0m \u001b[1m0s\u001b[0m 4ms/step - loss: 61.7682 - output1_loss: 23.5635 - output2_loss: 38.2043 - val_loss: 59.3221 - val_output1_loss: 22.7823 - val_output2_loss: 36.5604\n",
            "Epoch 198/200\n",
            "\u001b[1m60/60\u001b[0m \u001b[32m━━━━━━━━━━━━━━━━━━━━\u001b[0m\u001b[37m\u001b[0m \u001b[1m0s\u001b[0m 4ms/step - loss: 59.1029 - output1_loss: 23.3655 - output2_loss: 35.7367 - val_loss: 59.3990 - val_output1_loss: 22.7320 - val_output2_loss: 36.6903\n",
            "Epoch 199/200\n",
            "\u001b[1m60/60\u001b[0m \u001b[32m━━━━━━━━━━━━━━━━━━━━\u001b[0m\u001b[37m\u001b[0m \u001b[1m0s\u001b[0m 4ms/step - loss: 58.5253 - output1_loss: 22.1768 - output2_loss: 36.3483 - val_loss: 59.0175 - val_output1_loss: 22.7372 - val_output2_loss: 36.3026\n",
            "Epoch 200/200\n",
            "\u001b[1m60/60\u001b[0m \u001b[32m━━━━━━━━━━━━━━━━━━━━\u001b[0m\u001b[37m\u001b[0m \u001b[1m0s\u001b[0m 3ms/step - loss: 59.8619 - output1_loss: 22.5247 - output2_loss: 37.3381 - val_loss: 58.9355 - val_output1_loss: 22.8160 - val_output2_loss: 36.1395\n"
          ]
        },
        {
          "output_type": "execute_result",
          "data": {
            "text/plain": [
              "<keras.src.callbacks.history.History at 0x7b487f0f5250>"
            ]
          },
          "metadata": {},
          "execution_count": 31
        }
      ]
    },
    {
      "cell_type": "code",
      "source": [
        "pred = model.predict(x_test)\n",
        "pred_energy = pred[0]\n",
        "pred_vacuum = pred[1]"
      ],
      "metadata": {
        "id": "YIrPo3YNygBK",
        "outputId": "207fd04a-4874-4493-db02-5b8c13eebb63",
        "colab": {
          "base_uri": "https://localhost:8080/"
        }
      },
      "execution_count": 32,
      "outputs": [
        {
          "output_type": "stream",
          "name": "stdout",
          "text": [
            "\u001b[1m60/60\u001b[0m \u001b[32m━━━━━━━━━━━━━━━━━━━━\u001b[0m\u001b[37m\u001b[0m \u001b[1m0s\u001b[0m 2ms/step  \n"
          ]
        }
      ]
    },
    {
      "cell_type": "code",
      "source": [
        "import matplotlib.pyplot as plt\n",
        "plt.scatter(y_test[0] , pred_energy)"
      ],
      "metadata": {
        "id": "sba_8Q6ozup8",
        "outputId": "1542645c-4547-4632-f5de-296f9ae627ec",
        "colab": {
          "base_uri": "https://localhost:8080/",
          "height": 447
        }
      },
      "execution_count": 33,
      "outputs": [
        {
          "output_type": "execute_result",
          "data": {
            "text/plain": [
              "<matplotlib.collections.PathCollection at 0x7b487f256510>"
            ]
          },
          "metadata": {},
          "execution_count": 33
        },
        {
          "output_type": "display_data",
          "data": {
            "text/plain": [
              "<Figure size 640x480 with 1 Axes>"
            ],
            "image/png": "[encoded data removed]"
          },
          "metadata": {}
        }
      ]
    },
    {
      "cell_type": "code",
      "source": [
        "import matplotlib.pyplot as plt\n",
        "plt.scatter(y_test[1] , pred_vacuum)"
      ],
      "metadata": {
        "id": "9tZlmgkj0Ffp",
        "outputId": "aaea695b-2a68-4c23-c40a-c7800e539833",
        "colab": {
          "base_uri": "https://localhost:8080/",
          "height": 447
        }
      },
      "execution_count": 34,
      "outputs": [
        {
          "output_type": "execute_result",
          "data": {
            "text/plain": [
              "<matplotlib.collections.PathCollection at 0x7b484c740850>"
            ]
          },
          "metadata": {},
          "execution_count": 34
        },
        {
          "output_type": "display_data",
          "data": {
            "text/plain": [
              "<Figure size 640x480 with 1 Axes>"
            ],
            "image/png": "[encoded data removed]"
          },
          "metadata": {}
        }
      ]
    },
    {
      "cell_type": "code",
      "source": [
        "from sklearn.metrics import r2_score\n",
        "print('r2 score for energy predicted :', r2_score(y_test[0], pred_energy))\n",
        "print('r2 score forexhaust vacuum predicted :', r2_score(y_test[1], pred_vacuum))"
      ],
      "metadata": {
        "id": "Syb0fSvH0NwD",
        "outputId": "3e03f9f7-bdc9-4639-9e42-459e2f549360",
        "colab": {
          "base_uri": "https://localhost:8080/"
        }
      },
      "execution_count": 38,
      "outputs": [
        {
          "output_type": "stream",
          "name": "stdout",
          "text": [
            "r2 score for energy predicted : 0.9213578897131025\n",
            "r2 score forexhaust vacuum predicted : 0.7760092710793342\n"
          ]
        }
      ]
    },
    {
      "cell_type": "code",
      "source": [],
      "metadata": {
        "id": "_WNhVOX70VSK"
      },
      "execution_count": null,
      "outputs": []
    }
  ],
  "metadata": {
    "colab": {
      "name": "Snippets: Importing libraries",
      "provenance": [],
      "gpuType": "V28"
    },
    "kernelspec": {
      "display_name": "Python 3",
      "name": "python3"
    },
    "accelerator": "TPU"
  },
  "nbformat": 4,
  "nbformat_minor": 0
}