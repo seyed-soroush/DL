{
  "nbformat": 4,
  "nbformat_minor": 0,
  "metadata": {
    "colab": {
      "provenance": [],
      "collapsed_sections": [
        "PC035nepVopi",
        "Wb6olrQTTBhc",
        "CzTL7kl1SuU0",
        "sohFRf7jTJj3",
        "lCMty-dYVwIO",
        "3WP38WZ5ZC3t",
        "3dBHJFD8wbvE",
        "X2DNBpwIynji",
        "YPHmBkGh_XH9",
        "h3qcBbPkEXZ7",
        "22nfUHMUFN2M"
      ],
      "gpuType": "T4"
    },
    "kernelspec": {
      "name": "python3",
      "display_name": "Python 3"
    },
    "language_info": {
      "name": "python"
    },
    "accelerator": "GPU"
  },
  "cells": [
    {
      "cell_type": "markdown",
      "source": [
        "# import"
      ],
      "metadata": {
        "id": "PC035nepVopi"
      }
    },
    {
      "cell_type": "code",
      "execution_count": null,
      "metadata": {
        "id": "wRF5lijkBtmG"
      },
      "outputs": [],
      "source": [
        "#Install Pytorch\n",
        "pip install torch"
      ]
    },
    {
      "cell_type": "code",
      "source": [
        "#import important libraries\n",
        "import torch\n",
        "import numpy as np\n",
        "import matplotlib.pyplot as plt"
      ],
      "metadata": {
        "id": "hHgx1S7GB5Bd"
      },
      "execution_count": 1,
      "outputs": []
    },
    {
      "cell_type": "markdown",
      "source": [
        "# Tensor"
      ],
      "metadata": {
        "id": "Wb6olrQTTBhc"
      }
    },
    {
      "cell_type": "code",
      "source": [
        "  #Scaler\n",
        "  torch.tensor(4)\n",
        "  torch.tensor(4/3)\n",
        "  torch.tensor(4**2)"
      ],
      "metadata": {
        "id": "vbDwz5aeCXUl"
      },
      "execution_count": null,
      "outputs": []
    },
    {
      "cell_type": "code",
      "source": [
        "#Vector\n",
        "torch.tensor([1,2,3])"
      ],
      "metadata": {
        "id": "0B3EA_coCfBR"
      },
      "execution_count": null,
      "outputs": []
    },
    {
      "cell_type": "code",
      "source": [
        "#Matrix\n",
        "torch.tensor([[1,2,3],[4,5,6],[7,8,9]])"
      ],
      "metadata": {
        "id": "UaU_j8BDChyK"
      },
      "execution_count": null,
      "outputs": []
    },
    {
      "cell_type": "code",
      "source": [
        "#Column Vector\n",
        "torch.tensor([[1],[2],[3]])"
      ],
      "metadata": {
        "id": "0M5YDlesC80G"
      },
      "execution_count": null,
      "outputs": []
    },
    {
      "cell_type": "code",
      "source": [
        "#N-d Tensor\n",
        "torch.tensor([[[1,2,5],[8,5,6]] ,\n",
        "              [[5,4,9],[8,8,5]] ,\n",
        "              [[2,1,7],[9,4,2]]])"
      ],
      "metadata": {
        "id": "UDTUuRmwC-DC"
      },
      "execution_count": null,
      "outputs": []
    },
    {
      "cell_type": "code",
      "source": [
        "#Data Type\n",
        "a = torch.tensor([1,2,3] , dtype=torch.float32)\n",
        "a.dtype"
      ],
      "metadata": {
        "id": "2WNlqus2DLQK"
      },
      "execution_count": null,
      "outputs": []
    },
    {
      "cell_type": "code",
      "source": [
        "#Convert\n",
        "a = a.type(torch.float16)\n",
        "a.dtype"
      ],
      "metadata": {
        "id": "xUbMiVIbDZdD"
      },
      "execution_count": null,
      "outputs": []
    },
    {
      "cell_type": "code",
      "source": [
        "#Device\n",
        "a.device\n",
        "a = torch.tensor([1,2,3] , device='cuda')\n",
        "a.device"
      ],
      "metadata": {
        "id": "lzb00nx0EBRR"
      },
      "execution_count": null,
      "outputs": []
    },
    {
      "cell_type": "markdown",
      "source": [
        "# **Tensor attribiute and method**"
      ],
      "metadata": {
        "id": "CzTL7kl1SuU0"
      }
    },
    {
      "cell_type": "code",
      "source": [
        "scaler = torch.tensor(4)\n",
        "vector = torch.tensor([1,2,3])\n",
        "matrix = torch.tensor([[1,2,3],[4,5,6],[7,8,9]])\n",
        "tensor = torch.tensor([[[1,2,5],[8,5,6]] ,[[5,4,9],[8,8,5]] ,[[2,1,7],[9,4,2]]])"
      ],
      "metadata": {
        "id": "fiT5BwIB5S8R"
      },
      "execution_count": null,
      "outputs": []
    },
    {
      "cell_type": "code",
      "source": [
        "#Shape\n",
        "tensor.shape\n",
        "#example\n",
        "c , r , t = tensor.shape\n",
        "c"
      ],
      "metadata": {
        "id": "VIB9QH_K5cT1"
      },
      "execution_count": null,
      "outputs": []
    },
    {
      "cell_type": "code",
      "source": [
        "#size\n",
        "tensor.size(1)"
      ],
      "metadata": {
        "id": "fyTz2Ygl8yIW"
      },
      "execution_count": null,
      "outputs": []
    },
    {
      "cell_type": "code",
      "source": [
        "#min&max\n",
        "print(tensor.min())\n",
        "print(tensor.max())"
      ],
      "metadata": {
        "id": "txeg4BOO88PY"
      },
      "execution_count": null,
      "outputs": []
    },
    {
      "cell_type": "code",
      "source": [
        "#mean & std\n",
        "print(tensor.type(torch.float32).mean())\n",
        "print(tensor.type(torch.float32).std())"
      ],
      "metadata": {
        "id": "_wHoYwdYQ5zh"
      },
      "execution_count": null,
      "outputs": []
    },
    {
      "cell_type": "code",
      "source": [
        "# Transpose\n",
        "matrix.t()"
      ],
      "metadata": {
        "id": "zIMR3zOVRM2A"
      },
      "execution_count": null,
      "outputs": []
    },
    {
      "cell_type": "markdown",
      "source": [
        "# Special Arrays"
      ],
      "metadata": {
        "id": "sohFRf7jTJj3"
      }
    },
    {
      "cell_type": "code",
      "source": [
        "#ones\n",
        "torch.ones((2,3,5,6))"
      ],
      "metadata": {
        "id": "vVC9QRP-TNuA"
      },
      "execution_count": null,
      "outputs": []
    },
    {
      "cell_type": "code",
      "source": [
        "#zeros\n",
        "torch.zeros((1,3,5,6))"
      ],
      "metadata": {
        "id": "HXDPRxRrTi6j"
      },
      "execution_count": null,
      "outputs": []
    },
    {
      "cell_type": "code",
      "source": [
        "#eye\n",
        "print(torch.eye(5))\n",
        "print(\".............................\")\n",
        "print(torch.eye(5 ,4))\n"
      ],
      "metadata": {
        "id": "jhVzaXPOUDWR"
      },
      "execution_count": null,
      "outputs": []
    },
    {
      "cell_type": "code",
      "source": [
        "#empty tensor\n",
        "em = torch.empty((2,3))\n",
        "em"
      ],
      "metadata": {
        "id": "2wH2P7E7UWNI"
      },
      "execution_count": null,
      "outputs": []
    },
    {
      "cell_type": "code",
      "source": [
        "# fill empty tensor\n",
        "em.fill_(2)\n",
        "em"
      ],
      "metadata": {
        "id": "84wUDPbUU9EV"
      },
      "execution_count": null,
      "outputs": []
    },
    {
      "cell_type": "code",
      "source": [
        "# full\n",
        "torch.full((2,3) , 1.2)"
      ],
      "metadata": {
        "id": "2ZUSVOreVN-s"
      },
      "execution_count": null,
      "outputs": []
    },
    {
      "cell_type": "code",
      "source": [],
      "metadata": {
        "id": "rz0_B2JGVcJN"
      },
      "execution_count": null,
      "outputs": []
    },
    {
      "cell_type": "markdown",
      "source": [
        "# Random Arrays"
      ],
      "metadata": {
        "id": "lCMty-dYVwIO"
      }
    },
    {
      "cell_type": "code",
      "source": [
        "#rand\n",
        "torch.rand((2,3)) #between 0 to 1 with equal chance for choose | uniform distribution"
      ],
      "metadata": {
        "id": "WrF2-f-fV2Rq"
      },
      "execution_count": null,
      "outputs": []
    },
    {
      "cell_type": "code",
      "source": [
        "rand_uniform = torch.rand(10000)\n",
        "plt.hist(rand_uniform);"
      ],
      "metadata": {
        "id": "OcBXtkkPV__N"
      },
      "execution_count": null,
      "outputs": []
    },
    {
      "cell_type": "code",
      "source": [
        "#randn\n",
        "rand_gauss = torch.randn((2,3,3)) #Gussian ditribution | Mean : 0 | std : 1"
      ],
      "metadata": {
        "id": "Hg-AKzBZWihC"
      },
      "execution_count": null,
      "outputs": []
    },
    {
      "cell_type": "code",
      "source": [
        "#randint\n",
        "torch.randint(low=0 , high=10 , size=(2,3))"
      ],
      "metadata": {
        "id": "AblumOlMXPLO"
      },
      "execution_count": null,
      "outputs": []
    },
    {
      "cell_type": "code",
      "source": [
        "#randperm\n",
        "torch.randperm(10)"
      ],
      "metadata": {
        "colab": {
          "base_uri": "https://localhost:8080/"
        },
        "id": "Kaa8CspvX4eJ",
        "outputId": "a135dc9a-bcb7-4422-b079-f28a0305ee6f"
      },
      "execution_count": null,
      "outputs": [
        {
          "output_type": "execute_result",
          "data": {
            "text/plain": [
              "tensor([0, 1, 6, 8, 5, 4, 2, 3, 7, 9])"
            ]
          },
          "metadata": {},
          "execution_count": 48
        }
      ]
    },
    {
      "cell_type": "markdown",
      "source": [
        "# Indexing & Slicing"
      ],
      "metadata": {
        "id": "3WP38WZ5ZC3t"
      }
    },
    {
      "cell_type": "code",
      "source": [
        "#indexing in vector\n",
        "a = torch.rand(5)\n",
        "a"
      ],
      "metadata": {
        "id": "QVRP-Po6ZIHd"
      },
      "execution_count": null,
      "outputs": []
    },
    {
      "cell_type": "code",
      "source": [
        "a[3]"
      ],
      "metadata": {
        "id": "tpfUyjOKZktB"
      },
      "execution_count": null,
      "outputs": []
    },
    {
      "cell_type": "code",
      "source": [
        "#last element\n",
        "a[-1]"
      ],
      "metadata": {
        "id": "oY1hyI0LZoGh"
      },
      "execution_count": null,
      "outputs": []
    },
    {
      "cell_type": "code",
      "source": [
        "#indexing in matrix\n",
        "b = torch.randn(5 , 3)\n",
        "b"
      ],
      "metadata": {
        "id": "OeUteWwtZuZc"
      },
      "execution_count": null,
      "outputs": []
    },
    {
      "cell_type": "code",
      "source": [
        "b[1,2]"
      ],
      "metadata": {
        "id": "sXuxwYcwZ9UK"
      },
      "execution_count": null,
      "outputs": []
    },
    {
      "cell_type": "code",
      "source": [
        "b[1]"
      ],
      "metadata": {
        "id": "Zovm_z_yaS75"
      },
      "execution_count": null,
      "outputs": []
    },
    {
      "cell_type": "code",
      "source": [
        "#indexing in Tensor\n",
        "c = torch.randint(100 , (4,5,3))\n",
        "c"
      ],
      "metadata": {
        "id": "iDw5SIbzaZuX"
      },
      "execution_count": null,
      "outputs": []
    },
    {
      "cell_type": "code",
      "source": [
        "c[0,0,0] , c[2,3,1] , c[3,4,1]"
      ],
      "metadata": {
        "id": "k4kQcZMnbNRx"
      },
      "execution_count": null,
      "outputs": []
    },
    {
      "cell_type": "code",
      "source": [
        "c[0]"
      ],
      "metadata": {
        "id": "1q9ZM4H8bX0D"
      },
      "execution_count": null,
      "outputs": []
    },
    {
      "cell_type": "code",
      "source": [
        "#slicing in vector\n",
        "a = torch.rand(10)\n",
        "a"
      ],
      "metadata": {
        "id": "mHk422rzbZiY"
      },
      "execution_count": null,
      "outputs": []
    },
    {
      "cell_type": "code",
      "source": [
        "a[4:8]"
      ],
      "metadata": {
        "id": "R1FpZ5uzb5f1"
      },
      "execution_count": null,
      "outputs": []
    },
    {
      "cell_type": "code",
      "source": [
        "a[0:1]"
      ],
      "metadata": {
        "id": "chKhQwm4cE8S"
      },
      "execution_count": null,
      "outputs": []
    },
    {
      "cell_type": "code",
      "source": [
        "a[0:-1]"
      ],
      "metadata": {
        "id": "6-SCNOOtcNl9"
      },
      "execution_count": null,
      "outputs": []
    },
    {
      "cell_type": "code",
      "source": [
        "a[-2:-1]"
      ],
      "metadata": {
        "id": "_y9zrVFccUBw"
      },
      "execution_count": null,
      "outputs": []
    },
    {
      "cell_type": "code",
      "source": [
        "a[4:]"
      ],
      "metadata": {
        "id": "Wy-4t91lcZmW"
      },
      "execution_count": null,
      "outputs": []
    },
    {
      "cell_type": "code",
      "source": [
        "a[:3]"
      ],
      "metadata": {
        "id": "UX1JVDstcdtW"
      },
      "execution_count": null,
      "outputs": []
    },
    {
      "cell_type": "code",
      "source": [
        "a[::2]"
      ],
      "metadata": {
        "id": "P4DPkgVLcjD-"
      },
      "execution_count": null,
      "outputs": []
    },
    {
      "cell_type": "code",
      "source": [
        "a[[0 , 2 , 7]]"
      ],
      "metadata": {
        "id": "RulS9S79dOhp"
      },
      "execution_count": null,
      "outputs": []
    },
    {
      "cell_type": "code",
      "source": [
        "#slicing in matrix\n",
        "b = torch.randn(3 , 5)\n",
        "b"
      ],
      "metadata": {
        "id": "3AwjPq2ub7s9"
      },
      "execution_count": null,
      "outputs": []
    },
    {
      "cell_type": "code",
      "source": [
        "b[0:3 , 2:-1]"
      ],
      "metadata": {
        "id": "CjE5kzrUdZ5o"
      },
      "execution_count": null,
      "outputs": []
    },
    {
      "cell_type": "code",
      "source": [
        "b[0:2]"
      ],
      "metadata": {
        "id": "c--MZ2aWdh6D"
      },
      "execution_count": null,
      "outputs": []
    },
    {
      "cell_type": "code",
      "source": [
        "b[::2 , 2:]"
      ],
      "metadata": {
        "id": "L4w7tbmNesQy"
      },
      "execution_count": null,
      "outputs": []
    },
    {
      "cell_type": "code",
      "source": [
        "#slicing in Tensor\n",
        "c = torch.randn(4,5,7)"
      ],
      "metadata": {
        "id": "QWTE8YGse68-"
      },
      "execution_count": null,
      "outputs": []
    },
    {
      "cell_type": "code",
      "source": [
        "c[1:2 , 3:5 , 2:4]"
      ],
      "metadata": {
        "id": "6weUYd7Dfc_F"
      },
      "execution_count": null,
      "outputs": []
    },
    {
      "cell_type": "code",
      "source": [
        "c[1]"
      ],
      "metadata": {
        "id": "8QieRoK8fi95"
      },
      "execution_count": null,
      "outputs": []
    },
    {
      "cell_type": "code",
      "source": [
        "c[: , : , -1]"
      ],
      "metadata": {
        "id": "OGWhj2POfykM"
      },
      "execution_count": null,
      "outputs": []
    },
    {
      "cell_type": "code",
      "source": [],
      "metadata": {
        "id": "HH2fO95if93k"
      },
      "execution_count": null,
      "outputs": []
    },
    {
      "cell_type": "markdown",
      "source": [
        "# Math operation"
      ],
      "metadata": {
        "id": "3dBHJFD8wbvE"
      }
    },
    {
      "cell_type": "code",
      "source": [
        "a = torch.randint(20 , (2,2))\n",
        "a"
      ],
      "metadata": {
        "colab": {
          "base_uri": "https://localhost:8080/"
        },
        "id": "Zq4BXSL4weat",
        "outputId": "42ffb9ae-00f2-40c4-dc9c-a3481e4e1d2b"
      },
      "execution_count": null,
      "outputs": [
        {
          "output_type": "execute_result",
          "data": {
            "text/plain": [
              "tensor([[ 8,  0],\n",
              "        [12,  1]])"
            ]
          },
          "metadata": {},
          "execution_count": 4
        }
      ]
    },
    {
      "cell_type": "code",
      "source": [
        "b = torch.randint(10 , (2,2))\n",
        "b"
      ],
      "metadata": {
        "colab": {
          "base_uri": "https://localhost:8080/"
        },
        "id": "WB4E2A9Lwog7",
        "outputId": "84282d9c-1829-4055-aeac-13929902861a"
      },
      "execution_count": null,
      "outputs": [
        {
          "output_type": "execute_result",
          "data": {
            "text/plain": [
              "tensor([[3, 5],\n",
              "        [3, 1]])"
            ]
          },
          "metadata": {},
          "execution_count": 5
        }
      ]
    },
    {
      "cell_type": "code",
      "source": [
        "#Addition\n",
        "a + b"
      ],
      "metadata": {
        "colab": {
          "base_uri": "https://localhost:8080/"
        },
        "id": "88li8LTNw8B8",
        "outputId": "6cec3cb2-9902-4614-99b7-16b5154ced37"
      },
      "execution_count": null,
      "outputs": [
        {
          "output_type": "execute_result",
          "data": {
            "text/plain": [
              "tensor([[11,  5],\n",
              "        [15,  2]])"
            ]
          },
          "metadata": {},
          "execution_count": 6
        }
      ]
    },
    {
      "cell_type": "code",
      "source": [
        "#subtraction\n",
        "a - b"
      ],
      "metadata": {
        "colab": {
          "base_uri": "https://localhost:8080/"
        },
        "id": "ls1qohiYxCAT",
        "outputId": "b7fddd1c-7276-44a1-f402-1edf03bddf0b"
      },
      "execution_count": null,
      "outputs": [
        {
          "output_type": "execute_result",
          "data": {
            "text/plain": [
              "tensor([[ 5, -5],\n",
              "        [ 9,  0]])"
            ]
          },
          "metadata": {},
          "execution_count": 7
        }
      ]
    },
    {
      "cell_type": "code",
      "source": [
        "#multiplication\n",
        "a * b"
      ],
      "metadata": {
        "colab": {
          "base_uri": "https://localhost:8080/"
        },
        "id": "rcw3O4xAxK6A",
        "outputId": "d6e186b5-4400-4478-faf7-55c705e71044"
      },
      "execution_count": null,
      "outputs": [
        {
          "output_type": "execute_result",
          "data": {
            "text/plain": [
              "tensor([[24,  0],\n",
              "        [36,  1]])"
            ]
          },
          "metadata": {},
          "execution_count": 8
        }
      ]
    },
    {
      "cell_type": "code",
      "source": [
        "#Division\n",
        "a / b"
      ],
      "metadata": {
        "colab": {
          "base_uri": "https://localhost:8080/"
        },
        "id": "uCtTOSfGxZzP",
        "outputId": "c60a2c22-8dcb-447f-99d6-5d75100b988a"
      },
      "execution_count": null,
      "outputs": [
        {
          "output_type": "execute_result",
          "data": {
            "text/plain": [
              "tensor([[2.6667, 0.0000],\n",
              "        [4.0000, 1.0000]])"
            ]
          },
          "metadata": {},
          "execution_count": 9
        }
      ]
    },
    {
      "cell_type": "code",
      "source": [
        "#infinity\n",
        "torch.inf"
      ],
      "metadata": {
        "colab": {
          "base_uri": "https://localhost:8080/"
        },
        "id": "UxsJcCmSxd5-",
        "outputId": "d8728d90-d028-4a6b-d730-172d9abbcb43"
      },
      "execution_count": null,
      "outputs": [
        {
          "output_type": "execute_result",
          "data": {
            "text/plain": [
              "inf"
            ]
          },
          "metadata": {},
          "execution_count": 11
        }
      ]
    },
    {
      "cell_type": "code",
      "source": [
        "# Matrix Multiplication\n",
        "a @ b"
      ],
      "metadata": {
        "colab": {
          "base_uri": "https://localhost:8080/"
        },
        "id": "-e44uNPNxgvT",
        "outputId": "2b671ec5-737a-4883-c5a2-1147ebd4cb1d"
      },
      "execution_count": null,
      "outputs": [
        {
          "output_type": "execute_result",
          "data": {
            "text/plain": [
              "tensor([[24, 40],\n",
              "        [39, 61]])"
            ]
          },
          "metadata": {},
          "execution_count": 12
        }
      ]
    },
    {
      "cell_type": "code",
      "source": [
        "# Matrix Multiplication\n",
        "torch.matmul(a , b)"
      ],
      "metadata": {
        "colab": {
          "base_uri": "https://localhost:8080/"
        },
        "id": "Jz4XY9Xhx7MR",
        "outputId": "f2681764-3d43-47ba-8b6b-44d56c4db698"
      },
      "execution_count": null,
      "outputs": [
        {
          "output_type": "execute_result",
          "data": {
            "text/plain": [
              "tensor([[24, 40],\n",
              "        [39, 61]])"
            ]
          },
          "metadata": {},
          "execution_count": 13
        }
      ]
    },
    {
      "cell_type": "code",
      "source": [
        "#broadcasting\n",
        "a = torch.randint(10 , (1 , 2,2))\n",
        "print(a)\n",
        "print(\"------------------\")\n",
        "print(a + 2)"
      ],
      "metadata": {
        "colab": {
          "base_uri": "https://localhost:8080/"
        },
        "id": "ipoEqS5syEG5",
        "outputId": "3fc4d423-2267-45df-b889-f7c386463963"
      },
      "execution_count": null,
      "outputs": [
        {
          "output_type": "stream",
          "name": "stdout",
          "text": [
            "tensor([[[8, 8],\n",
            "         [5, 7]]])\n",
            "------------------\n",
            "tensor([[[10, 10],\n",
            "         [ 7,  9]]])\n"
          ]
        }
      ]
    },
    {
      "cell_type": "markdown",
      "source": [
        "# Dimension Transformation"
      ],
      "metadata": {
        "id": "X2DNBpwIynji"
      }
    },
    {
      "cell_type": "code",
      "source": [
        "a = torch.randn(2 , 6)\n",
        "b = torch.randn(3)"
      ],
      "metadata": {
        "id": "S79zygdUyvgt"
      },
      "execution_count": 3,
      "outputs": []
    },
    {
      "cell_type": "code",
      "source": [
        "a"
      ],
      "metadata": {
        "colab": {
          "base_uri": "https://localhost:8080/"
        },
        "id": "Szh-y4vAy-WM",
        "outputId": "f1379f8b-5433-462a-8ba8-d3abfc67119b"
      },
      "execution_count": null,
      "outputs": [
        {
          "output_type": "execute_result",
          "data": {
            "text/plain": [
              "tensor([[ 0.7635,  0.9333, -0.4364,  1.0853, -1.3878,  0.3668],\n",
              "        [ 1.5489, -0.1653,  1.2090, -0.3599,  1.1365, -1.8732]])"
            ]
          },
          "metadata": {},
          "execution_count": 19
        }
      ]
    },
    {
      "cell_type": "code",
      "source": [
        "b"
      ],
      "metadata": {
        "colab": {
          "base_uri": "https://localhost:8080/"
        },
        "id": "VzQz-bL2zCdN",
        "outputId": "226ea000-24ba-40b4-e8ae-9a81833d9961"
      },
      "execution_count": null,
      "outputs": [
        {
          "output_type": "execute_result",
          "data": {
            "text/plain": [
              "tensor([ 0.2738, -1.4004,  0.1845])"
            ]
          },
          "metadata": {},
          "execution_count": 20
        }
      ]
    },
    {
      "cell_type": "code",
      "source": [
        "#View\n",
        "a.view(2 , 3 , 2)"
      ],
      "metadata": {
        "colab": {
          "base_uri": "https://localhost:8080/"
        },
        "id": "yDZKq7c-zHKk",
        "outputId": "1a217cc7-b69d-42f7-8e50-bc14af194455"
      },
      "execution_count": null,
      "outputs": [
        {
          "output_type": "execute_result",
          "data": {
            "text/plain": [
              "tensor([[[ 0.7635,  0.9333],\n",
              "         [-0.4364,  1.0853],\n",
              "         [-1.3878,  0.3668]],\n",
              "\n",
              "        [[ 1.5489, -0.1653],\n",
              "         [ 1.2090, -0.3599],\n",
              "         [ 1.1365, -1.8732]]])"
            ]
          },
          "metadata": {},
          "execution_count": 21
        }
      ]
    },
    {
      "cell_type": "code",
      "source": [
        "#Reshape\n",
        "a.reshape(2,3,2)"
      ],
      "metadata": {
        "colab": {
          "base_uri": "https://localhost:8080/"
        },
        "id": "UsLTv-JwzDR0",
        "outputId": "8d6b2dac-8e41-4667-a897-b4765a2c8bb8"
      },
      "execution_count": null,
      "outputs": [
        {
          "output_type": "execute_result",
          "data": {
            "text/plain": [
              "tensor([[[ 0.7635,  0.9333],\n",
              "         [-0.4364,  1.0853],\n",
              "         [-1.3878,  0.3668]],\n",
              "\n",
              "        [[ 1.5489, -0.1653],\n",
              "         [ 1.2090, -0.3599],\n",
              "         [ 1.1365, -1.8732]]])"
            ]
          },
          "metadata": {},
          "execution_count": 22
        }
      ]
    },
    {
      "cell_type": "code",
      "source": [
        "#N-d Tensor to Vector\n",
        "a.flatten()"
      ],
      "metadata": {
        "colab": {
          "base_uri": "https://localhost:8080/"
        },
        "id": "RqwiMEfLztEL",
        "outputId": "98c515fe-1cb8-451b-b53b-700111e1f20d"
      },
      "execution_count": null,
      "outputs": [
        {
          "output_type": "execute_result",
          "data": {
            "text/plain": [
              "tensor([ 0.7635,  0.9333, -0.4364,  1.0853, -1.3878,  0.3668,  1.5489, -0.1653,\n",
              "         1.2090, -0.3599,  1.1365, -1.8732])"
            ]
          },
          "metadata": {},
          "execution_count": 23
        }
      ]
    },
    {
      "cell_type": "code",
      "source": [
        "#Repeat\n",
        "b.repeat(3)"
      ],
      "metadata": {
        "colab": {
          "base_uri": "https://localhost:8080/"
        },
        "id": "o1KLlBsUz28L",
        "outputId": "5adec169-ca80-497f-d294-580d45e54d34"
      },
      "execution_count": null,
      "outputs": [
        {
          "output_type": "execute_result",
          "data": {
            "text/plain": [
              "tensor([ 0.2738, -1.4004,  0.1845,  0.2738, -1.4004,  0.1845,  0.2738, -1.4004,\n",
              "         0.1845])"
            ]
          },
          "metadata": {},
          "execution_count": 24
        }
      ]
    },
    {
      "cell_type": "code",
      "source": [
        "#Concatnation\n",
        "torch.cat((a , a))"
      ],
      "metadata": {
        "colab": {
          "base_uri": "https://localhost:8080/"
        },
        "id": "lG-gEc8g0CPs",
        "outputId": "a2948dd3-2fdd-443d-c582-6bf9aecd95af"
      },
      "execution_count": null,
      "outputs": [
        {
          "output_type": "execute_result",
          "data": {
            "text/plain": [
              "tensor([[ 0.7635,  0.9333, -0.4364,  1.0853, -1.3878,  0.3668],\n",
              "        [ 1.5489, -0.1653,  1.2090, -0.3599,  1.1365, -1.8732],\n",
              "        [ 0.7635,  0.9333, -0.4364,  1.0853, -1.3878,  0.3668],\n",
              "        [ 1.5489, -0.1653,  1.2090, -0.3599,  1.1365, -1.8732]])"
            ]
          },
          "metadata": {},
          "execution_count": 26
        }
      ]
    },
    {
      "cell_type": "code",
      "source": [
        "torch.cat((a , torch.randn(2 , 6) , a))"
      ],
      "metadata": {
        "colab": {
          "base_uri": "https://localhost:8080/"
        },
        "id": "bBEThKKl0OSU",
        "outputId": "58945495-f193-44b1-c745-b9eef73bb232"
      },
      "execution_count": null,
      "outputs": [
        {
          "output_type": "execute_result",
          "data": {
            "text/plain": [
              "tensor([[ 0.7635,  0.9333, -0.4364,  1.0853, -1.3878,  0.3668],\n",
              "        [ 1.5489, -0.1653,  1.2090, -0.3599,  1.1365, -1.8732],\n",
              "        [-0.0774,  0.9425, -0.8244, -0.3289, -0.7760,  0.7255],\n",
              "        [ 0.7568,  0.0914, -1.0313, -0.0867,  1.8852, -0.3242],\n",
              "        [ 0.7635,  0.9333, -0.4364,  1.0853, -1.3878,  0.3668],\n",
              "        [ 1.5489, -0.1653,  1.2090, -0.3599,  1.1365, -1.8732]])"
            ]
          },
          "metadata": {},
          "execution_count": 27
        }
      ]
    },
    {
      "cell_type": "markdown",
      "source": [
        "# Built-in Function"
      ],
      "metadata": {
        "id": "YPHmBkGh_XH9"
      }
    },
    {
      "cell_type": "code",
      "source": [
        "a = torch.randint(10 , (5,))\n",
        "b = torch.randint(10 , (2 , 2))\n",
        "c = 10 * torch.rand((3 , 2 , 2))"
      ],
      "metadata": {
        "id": "Ojv80u3w_h5M"
      },
      "execution_count": 7,
      "outputs": []
    },
    {
      "cell_type": "code",
      "source": [
        "# Sum\n",
        "torch.sum(c)"
      ],
      "metadata": {
        "colab": {
          "base_uri": "https://localhost:8080/"
        },
        "id": "zm3pX_y3ABNY",
        "outputId": "1a52d78e-472b-4c23-aa29-03ae31e45fdd"
      },
      "execution_count": 8,
      "outputs": [
        {
          "output_type": "execute_result",
          "data": {
            "text/plain": [
              "tensor(62.8494)"
            ]
          },
          "metadata": {},
          "execution_count": 8
        }
      ]
    },
    {
      "cell_type": "code",
      "source": [
        "#cumsum\n",
        "torch.cumsum(a , 0)"
      ],
      "metadata": {
        "colab": {
          "base_uri": "https://localhost:8080/"
        },
        "id": "yvlqxQRuAJZg",
        "outputId": "17a92d28-3109-4b46-8d01-cde7b9f6ea10"
      },
      "execution_count": 11,
      "outputs": [
        {
          "output_type": "execute_result",
          "data": {
            "text/plain": [
              "tensor([ 9, 18, 20, 29, 35])"
            ]
          },
          "metadata": {},
          "execution_count": 11
        }
      ]
    },
    {
      "cell_type": "code",
      "source": [
        "#diff\n",
        "torch.diff(a)"
      ],
      "metadata": {
        "colab": {
          "base_uri": "https://localhost:8080/"
        },
        "id": "x-amdx-jBtyx",
        "outputId": "825e1cb8-641c-47da-fbae-63eb9340d4da"
      },
      "execution_count": 12,
      "outputs": [
        {
          "output_type": "execute_result",
          "data": {
            "text/plain": [
              "tensor([ 0, -7,  7, -3])"
            ]
          },
          "metadata": {},
          "execution_count": 12
        }
      ]
    },
    {
      "cell_type": "code",
      "source": [
        "#prod\n",
        "torch.prod(a)"
      ],
      "metadata": {
        "colab": {
          "base_uri": "https://localhost:8080/"
        },
        "id": "gyfRp6y_B-7F",
        "outputId": "d09c0efb-a30d-48d4-9b76-952690833ccb"
      },
      "execution_count": 13,
      "outputs": [
        {
          "output_type": "execute_result",
          "data": {
            "text/plain": [
              "tensor(8748)"
            ]
          },
          "metadata": {},
          "execution_count": 13
        }
      ]
    },
    {
      "cell_type": "code",
      "source": [
        "#sqrt\n",
        "torch.sqrt(a)"
      ],
      "metadata": {
        "colab": {
          "base_uri": "https://localhost:8080/"
        },
        "id": "_74le2-3CD8_",
        "outputId": "f96f78ac-500e-4c01-b063-7b0862f016c2"
      },
      "execution_count": 14,
      "outputs": [
        {
          "output_type": "execute_result",
          "data": {
            "text/plain": [
              "tensor([3.0000, 3.0000, 1.4142, 3.0000, 2.4495])"
            ]
          },
          "metadata": {},
          "execution_count": 14
        }
      ]
    },
    {
      "cell_type": "code",
      "source": [
        "#std\n",
        "torch.std(a.type(torch.float32))"
      ],
      "metadata": {
        "colab": {
          "base_uri": "https://localhost:8080/"
        },
        "id": "IwSg9aOoCMgZ",
        "outputId": "90136426-c1ec-44da-f3fc-82f46a910ed4"
      },
      "execution_count": 16,
      "outputs": [
        {
          "output_type": "execute_result",
          "data": {
            "text/plain": [
              "tensor(3.0822)"
            ]
          },
          "metadata": {},
          "execution_count": 16
        }
      ]
    },
    {
      "cell_type": "code",
      "source": [
        "#mean\n",
        "torch.mean(a.type(torch.float32))"
      ],
      "metadata": {
        "colab": {
          "base_uri": "https://localhost:8080/"
        },
        "id": "NVhCDBRmCT7n",
        "outputId": "f94f3b10-5334-4c2b-cbbb-6699874bbd8a"
      },
      "execution_count": 17,
      "outputs": [
        {
          "output_type": "execute_result",
          "data": {
            "text/plain": [
              "tensor(7.)"
            ]
          },
          "metadata": {},
          "execution_count": 17
        }
      ]
    },
    {
      "cell_type": "code",
      "source": [
        "#log\n",
        "torch.log(a.type(torch.float32))"
      ],
      "metadata": {
        "colab": {
          "base_uri": "https://localhost:8080/"
        },
        "id": "fxzR5GGhCh65",
        "outputId": "c7dd8dee-a126-4b2f-ae0a-904ab3dc0b2e"
      },
      "execution_count": 18,
      "outputs": [
        {
          "output_type": "execute_result",
          "data": {
            "text/plain": [
              "tensor([2.1972, 2.1972, 0.6931, 2.1972, 1.7918])"
            ]
          },
          "metadata": {},
          "execution_count": 18
        }
      ]
    },
    {
      "cell_type": "code",
      "source": [
        "#max\n",
        "torch.max(a)"
      ],
      "metadata": {
        "colab": {
          "base_uri": "https://localhost:8080/"
        },
        "id": "d0GMIiewCnZV",
        "outputId": "3efadf5b-6b68-4b39-f804-beeaacb27c19"
      },
      "execution_count": 19,
      "outputs": [
        {
          "output_type": "execute_result",
          "data": {
            "text/plain": [
              "tensor(9)"
            ]
          },
          "metadata": {},
          "execution_count": 19
        }
      ]
    },
    {
      "cell_type": "code",
      "source": [
        "#argmin\n",
        "torch.argmin(a)"
      ],
      "metadata": {
        "colab": {
          "base_uri": "https://localhost:8080/"
        },
        "id": "m3RvyCD9CrCr",
        "outputId": "2007f8b0-6c40-4d4b-e094-e3d90267ee1c"
      },
      "execution_count": 20,
      "outputs": [
        {
          "output_type": "execute_result",
          "data": {
            "text/plain": [
              "tensor(2)"
            ]
          },
          "metadata": {},
          "execution_count": 20
        }
      ]
    },
    {
      "cell_type": "code",
      "source": [
        "#exp\n",
        "torch.exp(a)"
      ],
      "metadata": {
        "colab": {
          "base_uri": "https://localhost:8080/"
        },
        "id": "VtEb2_AzCzJ0",
        "outputId": "c318bee0-a8f5-415b-eb46-d3580140f3c3"
      },
      "execution_count": 21,
      "outputs": [
        {
          "output_type": "execute_result",
          "data": {
            "text/plain": [
              "tensor([8.1031e+03, 8.1031e+03, 7.3891e+00, 8.1031e+03, 4.0343e+02])"
            ]
          },
          "metadata": {},
          "execution_count": 21
        }
      ]
    },
    {
      "cell_type": "code",
      "source": [
        "#variance\n",
        "torch.var(a.type(torch.float32))"
      ],
      "metadata": {
        "colab": {
          "base_uri": "https://localhost:8080/"
        },
        "id": "XdkEVUVOC3Os",
        "outputId": "7daea46c-52f3-44e5-de4c-65429b106283"
      },
      "execution_count": 22,
      "outputs": [
        {
          "output_type": "execute_result",
          "data": {
            "text/plain": [
              "tensor(9.5000)"
            ]
          },
          "metadata": {},
          "execution_count": 22
        }
      ]
    },
    {
      "cell_type": "code",
      "source": [
        "#topk\n",
        "#return k values\n",
        "torch.topk(a , 3 , largest=False)"
      ],
      "metadata": {
        "colab": {
          "base_uri": "https://localhost:8080/"
        },
        "id": "lR-Gg_zeC80x",
        "outputId": "2c591fe9-ed38-40cd-d9a1-68d8fa3d8163"
      },
      "execution_count": 25,
      "outputs": [
        {
          "output_type": "execute_result",
          "data": {
            "text/plain": [
              "torch.return_types.topk(\n",
              "values=tensor([2, 6, 9]),\n",
              "indices=tensor([2, 4, 1]))"
            ]
          },
          "metadata": {},
          "execution_count": 25
        }
      ]
    },
    {
      "cell_type": "code",
      "source": [
        "#mode\n",
        "torch.mode(a)"
      ],
      "metadata": {
        "colab": {
          "base_uri": "https://localhost:8080/"
        },
        "id": "zvI4P7WyDvGh",
        "outputId": "19267281-16c5-4bd3-9873-42358417261b"
      },
      "execution_count": 26,
      "outputs": [
        {
          "output_type": "execute_result",
          "data": {
            "text/plain": [
              "torch.return_types.mode(\n",
              "values=tensor(9),\n",
              "indices=tensor(3))"
            ]
          },
          "metadata": {},
          "execution_count": 26
        }
      ]
    },
    {
      "cell_type": "code",
      "source": [
        "#median\n",
        "torch.median(a)"
      ],
      "metadata": {
        "colab": {
          "base_uri": "https://localhost:8080/"
        },
        "id": "8JMeuxdwEDAc",
        "outputId": "4371a994-43b9-4220-d7fe-3a04e7a6102b"
      },
      "execution_count": 27,
      "outputs": [
        {
          "output_type": "execute_result",
          "data": {
            "text/plain": [
              "tensor(9)"
            ]
          },
          "metadata": {},
          "execution_count": 27
        }
      ]
    },
    {
      "cell_type": "code",
      "source": [],
      "metadata": {
        "id": "EqDTTdbtEGL6"
      },
      "execution_count": null,
      "outputs": []
    },
    {
      "cell_type": "markdown",
      "source": [
        "# torch <--> numpy"
      ],
      "metadata": {
        "id": "h3qcBbPkEXZ7"
      }
    },
    {
      "cell_type": "code",
      "source": [
        "a = torch.randperm(5)\n",
        "b = np.random.randint(0 , 5 , (5))\n",
        "a ,"
      ],
      "metadata": {
        "colab": {
          "base_uri": "https://localhost:8080/"
        },
        "id": "-8gV-lz4EckQ",
        "outputId": "96e3dbe2-f353-4033-88bb-fc7a03cadd76"
      },
      "execution_count": 30,
      "outputs": [
        {
          "output_type": "execute_result",
          "data": {
            "text/plain": [
              "(tensor([0, 3, 4, 2, 1]),)"
            ]
          },
          "metadata": {},
          "execution_count": 30
        }
      ]
    },
    {
      "cell_type": "code",
      "source": [
        "# tensor to numpy\n",
        "a.numpy()"
      ],
      "metadata": {
        "colab": {
          "base_uri": "https://localhost:8080/"
        },
        "id": "M96dmAedEqiF",
        "outputId": "f73969f2-4daa-4425-f5b9-02d5cfb39855"
      },
      "execution_count": 32,
      "outputs": [
        {
          "output_type": "execute_result",
          "data": {
            "text/plain": [
              "array([0, 3, 4, 2, 1])"
            ]
          },
          "metadata": {},
          "execution_count": 32
        }
      ]
    },
    {
      "cell_type": "code",
      "source": [
        "# numpy to tensor\n",
        "torch.tensor(b , dtype=torch.float32)"
      ],
      "metadata": {
        "colab": {
          "base_uri": "https://localhost:8080/"
        },
        "id": "AvNjEvmzE74-",
        "outputId": "6bd278d5-9b35-4ec7-a2fd-76edf30f9de3"
      },
      "execution_count": 33,
      "outputs": [
        {
          "output_type": "execute_result",
          "data": {
            "text/plain": [
              "tensor([3., 0., 3., 2., 0.])"
            ]
          },
          "metadata": {},
          "execution_count": 33
        }
      ]
    },
    {
      "cell_type": "code",
      "source": [],
      "metadata": {
        "id": "B5cFc5UBFK6t"
      },
      "execution_count": null,
      "outputs": []
    },
    {
      "cell_type": "markdown",
      "source": [
        "# Save & Load"
      ],
      "metadata": {
        "id": "22nfUHMUFN2M"
      }
    },
    {
      "cell_type": "code",
      "source": [
        "# save\n",
        "torch.save(a , '/content/a.pt')"
      ],
      "metadata": {
        "id": "kyz9qoKwFREh"
      },
      "execution_count": 34,
      "outputs": []
    },
    {
      "cell_type": "code",
      "source": [
        "#Load\n",
        "torch.load('/content/a.pt')"
      ],
      "metadata": {
        "colab": {
          "base_uri": "https://localhost:8080/"
        },
        "id": "VrWIkpUSFjZf",
        "outputId": "c7a7c822-db70-417c-b9e3-4d711bc8ffd3"
      },
      "execution_count": 35,
      "outputs": [
        {
          "output_type": "execute_result",
          "data": {
            "text/plain": [
              "tensor([0, 3, 4, 2, 1])"
            ]
          },
          "metadata": {},
          "execution_count": 35
        }
      ]
    },
    {
      "cell_type": "code",
      "source": [],
      "metadata": {
        "id": "tIMDEdIAFoQa"
      },
      "execution_count": null,
      "outputs": []
    }
  ]
}